{
 "cells": [
  {
   "cell_type": "markdown",
   "id": "a1a3690f-2388-4d90-974c-fa14c92a5248",
   "metadata": {},
   "source": [
    "# Linear Algebra: Math field which Vectorial Spaces are calculated."
   ]
  },
  {
   "cell_type": "markdown",
   "id": "006025f1-bceb-4e36-b93f-d6bad3811b22",
   "metadata": {},
   "source": [
    "## Vectors: Objects subject to operations in order to form other values"
   ]
  },
  {
   "cell_type": "code",
   "execution_count": 1,
   "id": "8f09ab8a-0316-4b29-9edf-9165e7996c98",
   "metadata": {},
   "outputs": [],
   "source": [
    "from typing import List\n",
    "#Alias to describe a Vector as simply List[int]\n",
    "Vector = List[float]\n",
    "height_weight_age = [70, #Inch\n",
    "                     170,#Pounds\n",
    "                     40] #Years\n",
    "grades = [95,\n",
    "          80,\n",
    "          75,\n",
    "          62]"
   ]
  },
  {
   "cell_type": "markdown",
   "id": "815ceb28-5da3-46a2-a4ac-89316d152fff",
   "metadata": {},
   "source": [
    "### Vector addition:"
   ]
  },
  {
   "cell_type": "code",
   "execution_count": 4,
   "id": "92897a46-0992-4adc-8e04-13e6bb6bb59b",
   "metadata": {},
   "outputs": [],
   "source": [
    "#Addition is performed component wise\n",
    "def add(u: Vector, v: Vector) -> Vector:\n",
    "    assert len(u) == len(v), \"Vectors should be the same size\"\n",
    "    return [xu + xv for xu, xv in zip(u, v)]\n",
    "    #List comprehension to unzip both vectors components into temporary variables"
   ]
  },
  {
   "cell_type": "code",
   "execution_count": 5,
   "id": "1951cd47-00fd-4f6d-bf7e-edb77a834cf6",
   "metadata": {},
   "outputs": [],
   "source": [
    "assert add([3,3], [4,4]) == [7,7], \"Sum was not as expected\""
   ]
  },
  {
   "cell_type": "markdown",
   "id": "8cb44299-d134-4842-a5c9-578951a024d2",
   "metadata": {},
   "source": [
    "### Vector subtraction:"
   ]
  },
  {
   "cell_type": "code",
   "execution_count": 7,
   "id": "2ffc4768-87cd-4567-8882-c234942d7258",
   "metadata": {},
   "outputs": [],
   "source": [
    "def subtract(u: Vector, v: Vector) -> Vector:\n",
    "    assert len(u) == len(v), \"Vectors should be the same size\"\n",
    "    return [xu - xv for xu, xv in zip(u, v)]"
   ]
  },
  {
   "cell_type": "code",
   "execution_count": 8,
   "id": "cf7ac385-ce9b-4937-8e6d-162963258c60",
   "metadata": {},
   "outputs": [],
   "source": [
    "assert subtract([3, 5, 7], [3, 5, 7]) == [0, 0, 0], \"Sub result was not as expected\""
   ]
  },
  {
   "cell_type": "markdown",
   "id": "8da3159c-ed8f-41e1-bccb-d6bad589b652",
   "metadata": {},
   "source": [
    "### Vector summation:"
   ]
  },
  {
   "cell_type": "code",
   "execution_count": 10,
   "id": "6d4c859a-c42b-4d0f-bd08-17fe04c6f90c",
   "metadata": {},
   "outputs": [],
   "source": [
    "def vector_sum(v: List[Vector]) -> Vector:\n",
    "    assert v, \"Vetores vazios\"\n",
    "    vectors_size = len(v[0])\n",
    "    assert all(len(vi) == vectors_size for vi in v), \"Different sizes\"\n",
    "    return [sum(vector[i] for vector in v) #para todo elemento i de cada vector em v\n",
    "            for i in range(vectors_size)] #intervalo de i até a quantidade de elementos presente em cada vetor"
   ]
  },
  {
   "cell_type": "code",
   "execution_count": 11,
   "id": "3790ba3b-c9e5-4002-8582-7141124bf5d8",
   "metadata": {},
   "outputs": [],
   "source": [
    "assert vector_sum([[1, 3], [2,4], [5, 6]]) == [8, 13], \"sum was not as expected\""
   ]
  },
  {
   "cell_type": "markdown",
   "id": "d5170bbd-3a2f-4a56-a28b-8427063ad192",
   "metadata": {},
   "source": [
    "### Scalar multiplication:"
   ]
  },
  {
   "cell_type": "code",
   "execution_count": 12,
   "id": "3d557d8c-4126-4faf-b437-0a41274894cf",
   "metadata": {},
   "outputs": [],
   "source": [
    "#Multiplying every component of a vector by a scalar.\n",
    "def scalar_multiplication(a: float, v: Vector) -> Vector:\n",
    "    return [a * vi for vi in v]"
   ]
  },
  {
   "cell_type": "code",
   "execution_count": 13,
   "id": "b9d3524f-d567-49d9-be3d-036576fd58c4",
   "metadata": {},
   "outputs": [],
   "source": [
    "assert scalar_multiplication(3.0, [1, 4, 6]) == [3.0, 12.0, 18.0], \"multiplication result was not as expected\""
   ]
  },
  {
   "cell_type": "markdown",
   "id": "f6388812-504d-4996-bb78-654b1a188850",
   "metadata": {},
   "source": [
    "### Vector mean:"
   ]
  },
  {
   "cell_type": "code",
   "execution_count": 14,
   "id": "0e1131a5-5885-4d61-a7c7-3a074ddc49b9",
   "metadata": {},
   "outputs": [],
   "source": [
    "def vector_mean(vectors: List[Vector]) -> Vector:\n",
    "    vectors_size = len(vectors)\n",
    "    return scalar_multiplication(1/vectors_size, vector_sum(vectors))"
   ]
  },
  {
   "cell_type": "code",
   "execution_count": 15,
   "id": "028c2803-fba9-469a-bba1-43ba477f8852",
   "metadata": {},
   "outputs": [],
   "source": [
    "assert vector_mean([[1,3],[2,4],[3,5]]) == [2.0, 4.0], \"mean is not as expected\""
   ]
  },
  {
   "cell_type": "markdown",
   "id": "e45876b2-e068-420a-aab5-f62e69140da4",
   "metadata": {},
   "source": [
    "## Matrix mean:\n",
    "![Matrix Mean Calculation](matrix_mean.jpg \"Matrix Mean\")"
   ]
  },
  {
   "cell_type": "markdown",
   "id": "3bd0f7f3-ccdc-4eab-a6da-2b77c7fba788",
   "metadata": {},
   "source": [
    "### Dot product: Most fundamental vectorial operation!"
   ]
  },
  {
   "cell_type": "code",
   "execution_count": 16,
   "id": "5c88e6c5-9b32-4edd-bde0-d0a039b0e9fa",
   "metadata": {},
   "outputs": [],
   "source": [
    "#Sum of products of vector components\n",
    "def dot(u: Vector, v: Vector) -> float:\n",
    "    # u_1*v_1 + u_2*v_2 ... u_n*v_n\n",
    "    assert len(u) == len(v)\n",
    "    return sum([u_i * v_i for u_i, v_i in zip(u, v)])"
   ]
  },
  {
   "cell_type": "code",
   "execution_count": 17,
   "id": "fbc90b8a-3713-401b-8210-5c40971c9dcd",
   "metadata": {},
   "outputs": [],
   "source": [
    "assert dot([1,2,3], [4,5,6]) == 32, \"dot product was not as expected\""
   ]
  },
  {
   "cell_type": "markdown",
   "id": "6f60c8d7-683d-47f4-977e-13d317e74dfe",
   "metadata": {},
   "source": [
    "## Magnitude of a vector:\n",
    "![Vector Magnitude](vector_magnitude.jpg \"Vector Magnitude\")"
   ]
  },
  {
   "cell_type": "markdown",
   "id": "464965ed-5c95-4b53-90da-ff2e5e4004ae",
   "metadata": {},
   "source": [
    "### Sum of Squares:"
   ]
  },
  {
   "cell_type": "code",
   "execution_count": 30,
   "id": "86e29ba3-4e3e-4783-9001-4a6c507a4743",
   "metadata": {},
   "outputs": [],
   "source": [
    "def sum_of_squares(v: Vector) -> float:\n",
    "    return dot(v, v)"
   ]
  },
  {
   "cell_type": "code",
   "execution_count": 31,
   "id": "250b2701-84af-49cb-8b00-b1e8ef12c75a",
   "metadata": {},
   "outputs": [],
   "source": [
    "assert sum_of_squares([1,2,3]) == 14, \"sum of squares is not as expected\""
   ]
  },
  {
   "cell_type": "code",
   "execution_count": 32,
   "id": "e5da24b9-d024-40b8-96de-86eee7bd093b",
   "metadata": {},
   "outputs": [],
   "source": [
    "import math"
   ]
  },
  {
   "cell_type": "code",
   "execution_count": 33,
   "id": "3046de1a-0865-4ff3-a206-4d76dd17339a",
   "metadata": {},
   "outputs": [],
   "source": [
    "def magnitude(v: Vector) ->float: #magnitude is the length of a vector \n",
    "    return math.sqrt(sum_of_squares(v))"
   ]
  },
  {
   "cell_type": "code",
   "execution_count": 34,
   "id": "37b1d244-6c7d-4e0b-b65d-ca9e21bace69",
   "metadata": {},
   "outputs": [],
   "source": [
    "assert magnitude([3, 4]) == 5, \"magnitude was not as expected\""
   ]
  },
  {
   "cell_type": "markdown",
   "id": "b384ebda-71bd-4954-b78d-4b6cbff8511a",
   "metadata": {},
   "source": [
    "## Distance:"
   ]
  },
  {
   "cell_type": "code",
   "execution_count": 20,
   "id": "077c7e40-0096-4b9e-9441-eb7b02ebba2e",
   "metadata": {},
   "outputs": [],
   "source": [
    "def squared_distance(v: Vector, w: Vector) -> float:\n",
    "    return sum_of_squares(subtract(v,w))"
   ]
  },
  {
   "cell_type": "code",
   "execution_count": 21,
   "id": "5042612b-d624-40a5-a6e2-81fb1c6d83a1",
   "metadata": {},
   "outputs": [],
   "source": [
    "def distance(v: Vector, w: Vector) -> float:\n",
    "    return math.sqrt(squared_distance(v,w))"
   ]
  },
  {
   "cell_type": "code",
   "execution_count": 22,
   "id": "392edf38-c492-4975-99f9-cec9dd6eed2a",
   "metadata": {},
   "outputs": [],
   "source": [
    "def distance(v: Vector, w: Vector) -> float:\n",
    "    return magnitude(subtract(v, w))"
   ]
  },
  {
   "cell_type": "code",
   "execution_count": null,
   "id": "5593c6b1-466b-4423-8636-a055546a20e4",
   "metadata": {},
   "outputs": [],
   "source": []
  }
 ],
 "metadata": {
  "kernelspec": {
   "display_name": "Python 3 (ipykernel)",
   "language": "python",
   "name": "python3"
  },
  "language_info": {
   "codemirror_mode": {
    "name": "ipython",
    "version": 3
   },
   "file_extension": ".py",
   "mimetype": "text/x-python",
   "name": "python",
   "nbconvert_exporter": "python",
   "pygments_lexer": "ipython3",
   "version": "3.11.7"
  }
 },
 "nbformat": 4,
 "nbformat_minor": 5
}
