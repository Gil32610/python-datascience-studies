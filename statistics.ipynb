{
 "cells": [
  {
   "cell_type": "markdown",
   "id": "34707b63-3ea9-4e96-8618-6dd73e04f7cc",
   "metadata": {},
   "source": [
    "# Statistics:"
   ]
  },
  {
   "cell_type": "markdown",
   "id": "25f23173-8d7c-45b1-b502-35bb7996a269",
   "metadata": {},
   "source": [
    "## Describing a dataset:"
   ]
  },
  {
   "cell_type": "code",
   "execution_count": 1,
   "id": "aa888faf-2f85-4b46-befc-19420e3f55bc",
   "metadata": {},
   "outputs": [],
   "source": [
    "import random\n",
    "workers = 200\n",
    "num_friends = [random.randint(1, 100) for _ in range(workers)]\n",
    "#when using a list comprehension, use the left most field to assign a generated/fixed value to the list!!!"
   ]
  },
  {
   "cell_type": "code",
   "execution_count": 2,
   "id": "460e6c74-943a-45ff-8286-5f768c0dc347",
   "metadata": {},
   "outputs": [
    {
     "data": {
      "image/png": "[encoded data removed]",
      "text/plain": [
       "<Figure size 640x480 with 1 Axes>"
      ]
     },
     "metadata": {},
     "output_type": "display_data"
    }
   ],
   "source": [
    "from collections import Counter \n",
    "import matplotlib.pyplot as plt\n",
    "\n",
    "friend_counts = Counter(num_friends)\n",
    "xs = range(101)\n",
    "ys = [friend_counts[x] for x in xs]\n",
    "plt.bar(xs, ys)\n",
    "plt.axis([0, 101, 0, 25])\n",
    "plt.title(\"Histogram of Friend Counts\")\n",
    "plt.xlabel(\"Number of friends\")\n",
    "plt.ylabel(\"Number of people\")\n",
    "plt.show()"
   ]
  },
  {
   "cell_type": "code",
   "execution_count": 3,
   "id": "71b51125-2ad7-4ad6-b209-cc0fbba5b8fa",
   "metadata": {},
   "outputs": [],
   "source": [
    "num_points = len(num_friends)"
   ]
  },
  {
   "cell_type": "code",
   "execution_count": 4,
   "id": "4b54f94d-8e8e-40f6-bf6a-4f6e876482dd",
   "metadata": {},
   "outputs": [],
   "source": [
    "largest_value = max(num_friends)\n",
    "smallest_value = min(num_friends)"
   ]
  },
  {
   "cell_type": "code",
   "execution_count": 5,
   "id": "f7bebcbe-6740-4d86-ab7b-8586c50b50cc",
   "metadata": {},
   "outputs": [],
   "source": [
    "sorted_values = sorted(num_friends)\n",
    "top_3_smallest = sorted_values[:3]"
   ]
  },
  {
   "cell_type": "code",
   "execution_count": 6,
   "id": "ed7881b0-8093-4d98-9897-7d89b9ec1015",
   "metadata": {},
   "outputs": [
    {
     "name": "stdout",
     "output_type": "stream",
     "text": [
      "Largest value: 100, Smallest value: 1,  Top 3 smallest: [1, 1, 2]\n"
     ]
    }
   ],
   "source": [
    "print(f\"Largest value: { largest_value}, Smallest value: { smallest_value},  Top 3 smallest: { top_3_smallest}\")"
   ]
  },
  {
   "cell_type": "markdown",
   "id": "8f662c67-8f79-4d16-a7ea-48dc01e7f430",
   "metadata": {},
   "source": [
    "## Central tendency:"
   ]
  },
  {
   "cell_type": "markdown",
   "id": "babb7627-fe57-451f-b578-c2f8156b04ee",
   "metadata": {},
   "source": [
    "### Mean: Sum of the data divided by its count"
   ]
  },
  {
   "cell_type": "code",
   "execution_count": 7,
   "id": "775c4bf8-7b85-47e8-99eb-6a7392cbf5f5",
   "metadata": {},
   "outputs": [],
   "source": [
    "from typing import List"
   ]
  },
  {
   "cell_type": "code",
   "execution_count": 8,
   "id": "6e9cd9a2-dcbd-496a-8d42-4cc917c0b2a6",
   "metadata": {},
   "outputs": [],
   "source": [
    "def mean(xs:List[float]) -> float:\n",
    "    return sum(xs) / len(xs)"
   ]
  },
  {
   "cell_type": "code",
   "execution_count": 9,
   "id": "e6f9ce21-c7dd-4757-80cf-7a6a4dab7550",
   "metadata": {},
   "outputs": [
    {
     "data": {
      "text/plain": [
       "49.83"
      ]
     },
     "execution_count": 9,
     "metadata": {},
     "output_type": "execute_result"
    }
   ],
   "source": [
    "mean(num_friends) #when we increase the data points, the mean increases by .1"
   ]
  },
  {
   "cell_type": "code",
   "execution_count": 10,
   "id": "f8291ae3-0540-4d3c-ac4c-3298ab2089c2",
   "metadata": {},
   "outputs": [],
   "source": [
    "def _median_odd(xs: List[float]) -> float:\n",
    "    return sorted(xs)[len(xs)//2]"
   ]
  },
  {
   "cell_type": "code",
   "execution_count": 11,
   "id": "dd3ab4e1-f584-4c76-be8f-bda9d986d573",
   "metadata": {},
   "outputs": [],
   "source": [
    "def _median_even(xs: List[float]) -> float:\n",
    "    sorted_values = sorted(xs)\n",
    "    hi_mid_point = len(xs)//2\n",
    "    return (sorted_values[hi_mid_point] + sorted_values[hi_mid_point-1])/2"
   ]
  },
  {
   "cell_type": "code",
   "execution_count": 12,
   "id": "f7f8e40f-e384-4ebe-b02c-199dcfe54450",
   "metadata": {},
   "outputs": [],
   "source": [
    "def median(v: List[float]) -> float:\n",
    "    return _median_even(v) if len(v)%2 == 0 else _median_odd(v) "
   ]
  },
  {
   "cell_type": "code",
   "execution_count": 13,
   "id": "9a26fd8b-d450-4c7d-b334-06d16017031c",
   "metadata": {},
   "outputs": [],
   "source": [
    "assert median([1, 2, 3, 4, 5, 6, 7]) == 4\n",
    "assert median([1, 2, 3, 4, 5, 6]) == (3 + 4) / 2"
   ]
  },
  {
   "cell_type": "code",
   "execution_count": 14,
   "id": "56cfc9fc-9d33-47c3-bd11-4a847b9a90ed",
   "metadata": {},
   "outputs": [
    {
     "name": "stdout",
     "output_type": "stream",
     "text": [
      "49.5\n"
     ]
    }
   ],
   "source": [
    "print(median(num_friends))"
   ]
  },
  {
   "cell_type": "markdown",
   "id": "3601a2d7-6616-4040-a8ff-6d4393f9c6fb",
   "metadata": {},
   "source": [
    "### Quantile: separates a percentage of the data (generalization of the median)"
   ]
  },
  {
   "cell_type": "code",
   "execution_count": 15,
   "id": "fa19ae43-7057-4b62-a7f5-e13f52bbf579",
   "metadata": {},
   "outputs": [],
   "source": [
    "def quantile(xs: List[float], p: float) -> float:\n",
    "    p_index = int(p*len(xs))\n",
    "    return sorted(xs)[p_index]"
   ]
  },
  {
   "cell_type": "markdown",
   "id": "1ed99930-0f06-4898-82da-0595bc4e7b24",
   "metadata": {},
   "source": [
    "### Mode: most frequent values:"
   ]
  },
  {
   "cell_type": "code",
   "execution_count": 23,
   "id": "033ddf9a-5b98-4a9c-804c-ee726f018b16",
   "metadata": {},
   "outputs": [],
   "source": [
    "def mode(x:List[float]) -> List[float]:\n",
    "    counts = Counter(x)\n",
    "    max_count = max(counts.values())\n",
    "    return [x_i for x_i, count in counts.items() if count  == max_count]\n",
    "    "
   ]
  },
  {
   "cell_type": "code",
   "execution_count": 24,
   "id": "ba5e44fb-b653-4839-bf91-c5f0857aa584",
   "metadata": {},
   "outputs": [],
   "source": [
    "assert set(mode([1, 2, 1, 1])) == {1}"
   ]
  },
  {
   "cell_type": "markdown",
   "id": "11b93bae-2e67-4ff5-b6d4-88a6f8ea0975",
   "metadata": {},
   "source": [
    "## Dispersion: measures the data distribution"
   ]
  },
  {
   "cell_type": "code",
   "execution_count": 25,
   "id": "bbff02f8-5005-42ac-9cd5-6f9d64c8917f",
   "metadata": {},
   "outputs": [],
   "source": [
    "#data range determines the difference the max data-point and min data-point\n",
    "def data_range(xs:List[float]) -> float:\n",
    "    return max(xs) - min(xs) #non-dependent of values"
   ]
  },
  {
   "cell_type": "code",
   "execution_count": 27,
   "id": "2c330f7b-c01c-4670-ab99-8ceee84187cf",
   "metadata": {},
   "outputs": [],
   "source": [
    "assert data_range(num_friends) == 99"
   ]
  },
  {
   "cell_type": "code",
   "execution_count": 34,
   "id": "63d5ab83-a5f2-4b96-bae8-2d21769994ac",
   "metadata": {},
   "outputs": [],
   "source": [
    "from scratch.lin_alg import sum_of_squares"
   ]
  },
  {
   "cell_type": "code",
   "execution_count": 35,
   "id": "0264e056-250a-40cb-b810-6ca530782082",
   "metadata": {},
   "outputs": [],
   "source": [
    "def de_mean(xs: List[float]) -> List[float]:\n",
    "    x_bar = mean(xs)\n",
    "    #Translating the values subtracting the mean (result will have mean 0)\n",
    "    return [x - x_bar for x in xs]"
   ]
  },
  {
   "cell_type": "code",
   "execution_count": 38,
   "id": "7c0b02dd-5e89-441e-848a-31838bd3a93c",
   "metadata": {},
   "outputs": [],
   "source": [
    "def variance(xs: List[float]) -> float:\n",
    "    assert len(xs) >= 2, \"variance requires at least two elements\"\n",
    "\n",
    "    n = len(xs)\n",
    "    deviations = de_mean(xs)\n",
    "    return sum_of_squares(deviations) / (n - 1)"
   ]
  },
  {
   "cell_type": "code",
   "execution_count": 40,
   "id": "7c5a1a29-40eb-4bfa-affc-146490c41e64",
   "metadata": {},
   "outputs": [],
   "source": [
    "assert 800.78 < variance(num_friends) < 800.80"
   ]
  },
  {
   "cell_type": "markdown",
   "id": "d6ced92b-c26a-47c3-9892-630befa43c9c",
   "metadata": {},
   "source": [
    "### Standard Deviation: calculates the average distance of each data point from the mean"
   ]
  },
  {
   "cell_type": "code",
   "execution_count": 43,
   "id": "da063055-f801-4b74-9208-eb8365dcb288",
   "metadata": {},
   "outputs": [],
   "source": [
    "import math\n",
    "\n",
    "def standard_deviation(xs: List[float]) -> float:\n",
    "    #average distance of each data point from the mean\n",
    "    return math.sqrt(variance(xs))"
   ]
  },
  {
   "cell_type": "code",
   "execution_count": 45,
   "id": "6daf5635-bda7-4b2e-9107-5ebf204ca68c",
   "metadata": {},
   "outputs": [],
   "source": [
    "assert 28.28 < standard_deviation(num_friends) < 28.30"
   ]
  },
  {
   "cell_type": "markdown",
   "id": "97268f59-a9b2-4266-aca8-0e8d743fb347",
   "metadata": {},
   "source": [
    "### Interquartile range: calculates difference between between 75º percentile and 25º percentile"
   ]
  },
  {
   "cell_type": "code",
   "execution_count": 47,
   "id": "369eb301-5cc0-4aca-baa5-a55dad464ff5",
   "metadata": {},
   "outputs": [],
   "source": [
    "def innterquartile_range(xs:List[float]) -> float:\n",
    "    return quantile(xs, .75) - quantile(xs, .25)"
   ]
  },
  {
   "cell_type": "code",
   "execution_count": 50,
   "id": "2136989b-ceda-4472-8a8f-7872378d9a41",
   "metadata": {},
   "outputs": [],
   "source": [
    "assert innterquartile_range(num_friends) == 48"
   ]
  },
  {
   "cell_type": "code",
   "execution_count": null,
   "id": "bc3a7f4a-6a6d-4f73-b513-295b694f4f94",
   "metadata": {},
   "outputs": [],
   "source": []
  }
 ],
 "metadata": {
  "kernelspec": {
   "display_name": "Python 3 (ipykernel)",
   "language": "python",
   "name": "python3"
  },
  "language_info": {
   "codemirror_mode": {
    "name": "ipython",
    "version": 3
   },
   "file_extension": ".py",
   "mimetype": "text/x-python",
   "name": "python",
   "nbconvert_exporter": "python",
   "pygments_lexer": "ipython3",
   "version": "3.12.4"
  }
 },
 "nbformat": 4,
 "nbformat_minor": 5
}
