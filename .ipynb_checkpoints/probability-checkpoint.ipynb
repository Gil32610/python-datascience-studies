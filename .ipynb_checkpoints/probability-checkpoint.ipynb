{
 "cells": [
  {
   "cell_type": "markdown",
   "id": "77ac84fe-b86f-420a-992f-058054969537",
   "metadata": {},
   "source": [
    "# Probability:"
   ]
  },
  {
   "cell_type": "markdown",
   "id": "fc578a6b-1fc9-4f77-bf6b-e065886ae13f",
   "metadata": {},
   "source": [
    "## Contiditional Probability:"
   ]
  },
  {
   "cell_type": "code",
   "execution_count": 12,
   "id": "2c5f0b2d-c7c3-49b4-887b-2b9367d4fa4a",
   "metadata": {},
   "outputs": [],
   "source": [
    "import enum, random, math\n",
    "SQRT_TWO_PI = math.sqrt(2*math.pi)"
   ]
  },
  {
   "cell_type": "code",
   "execution_count": 3,
   "id": "0864f4cc-24d1-40df-b02e-b5466ce23894",
   "metadata": {},
   "outputs": [],
   "source": [
    "class Kid(enum.Enum):\n",
    "    BOY = 0\n",
    "    GIRL = 1"
   ]
  },
  {
   "cell_type": "code",
   "execution_count": 5,
   "id": "d3a1be0c-f2f1-47f3-a11b-84b905206552",
   "metadata": {},
   "outputs": [],
   "source": [
    "def random_kid() -> Kid:\n",
    "    return random.choice([Kid.BOY, Kid.GIRL])"
   ]
  },
  {
   "cell_type": "code",
   "execution_count": 7,
   "id": "ecc4446a-1c4b-4544-b1e3-be6df6033cd0",
   "metadata": {},
   "outputs": [],
   "source": [
    "both_girls = 0\n",
    "older_girl = 0\n",
    "either_girl = 0\n",
    "\n",
    "random.seed(0)\n",
    "for _ in range(1000):\n",
    "    younger = random_kid()\n",
    "    older = random_kid()\n",
    "\n",
    "    if older == Kid.GIRL:\n",
    "        older_girl+=1\n",
    "\n",
    "    if older == Kid.GIRL and younger == Kid.GIRL:\n",
    "        both_girls+=1\n",
    "\n",
    "    if older == Kid.GIRL or younger == Kid.GIRL:\n",
    "        either_girl+=1\n",
    "\n",
    "    \n",
    "    "
   ]
  },
  {
   "cell_type": "code",
   "execution_count": 8,
   "id": "57261652-8ff2-4ec3-8250-9e3d9b062239",
   "metadata": {},
   "outputs": [
    {
     "name": "stdout",
     "output_type": "stream",
     "text": [
      "P(both | older):  0.4949290060851927\n",
      "P(both | older):  0.32232496697490093\n"
     ]
    }
   ],
   "source": [
    "print(\"P(both | older): \", both_girls/older_girl)\n",
    "print(\"P(both | older): \", both_girls/either_girl)"
   ]
  },
  {
   "cell_type": "markdown",
   "id": "7663872c-6b47-4324-b4d1-0e0b31d311b0",
   "metadata": {},
   "source": [
    "## Continuous Distributions:"
   ]
  },
  {
   "cell_type": "code",
   "execution_count": 9,
   "id": "085ddac7-fe40-4ff1-acd5-988d48b60a79",
   "metadata": {},
   "outputs": [],
   "source": [
    "def uniform_pdf(x: float) -> float:\n",
    "    return 1 if 0 <= x <= 1 else 0"
   ]
  },
  {
   "cell_type": "code",
   "execution_count": 11,
   "id": "a63fd2de-611e-45bd-adda-10457a87ff97",
   "metadata": {},
   "outputs": [],
   "source": [
    "def uniform_cdf(x: float) -> float:\n",
    "    if x<0: return 0\n",
    "    if x < 1: return x\n",
    "    else: return 1"
   ]
  },
  {
   "cell_type": "markdown",
   "id": "250cff91-981c-47da-ab1b-32725eba3fa8",
   "metadata": {},
   "source": [
    "## Normal Distribution:"
   ]
  },
  {
   "cell_type": "markdown",
   "id": "53950185-7a0e-4518-a178-700ff1780aa6",
   "metadata": {},
   "source": [
    "Classic bell curve determined by the mean (mu) and the standard deviation (std, sigma)\n",
    "- Mean mu indicates the central point\n",
    "- Sigma std indicates the width"
   ]
  },
  {
   "cell_type": "code",
   "execution_count": 14,
   "id": "952985fc-97d0-4910-b7a3-26b07f1051a8",
   "metadata": {},
   "outputs": [],
   "source": [
    "def normal_pdf(x: float, mu: float = 0, sigma: float = 1) ->float:\n",
    "    return (math.exp(-(x-mu) **2/2/sigma**2) / (SQRT_TWO_PI * sigma))"
   ]
  },
  {
   "cell_type": "code",
   "execution_count": 15,
   "id": "6b4d9b4e-ec84-42bd-b183-b1102cd6a6e4",
   "metadata": {},
   "outputs": [],
   "source": [
    "def normal_cdf(x:float, mu: float = 0, sigma: float = 1) -> float:\n",
    "    return (1+ math.erf((x-mu) / math.sqrt(2)/ sigma)) /2"
   ]
  },
  {
   "cell_type": "code",
   "execution_count": 18,
   "id": "b7b7932b-cbf2-4fa2-80a2-71a00603db72",
   "metadata": {},
   "outputs": [],
   "source": [
    "def inverse_normal_cdf(p: float, mu: float=0, sigma: float = 1, tolerance: float = 0.00001) -> float:\n",
    "    if mu != 0 or sigma != 1:\n",
    "        return mu + sigma * inverse_normal_cdf(p, tolerance=tolerance)\n",
    "\n",
    "    low_z = -10.0\n",
    "    hi_z = 10.0\n",
    "    while hi_z - low_z > tolerance:\n",
    "        mid_z = (low_z + hi_z) / 2\n",
    "        mid_p = normal_cdf(mid_z)\n",
    "        if mid_p < p:\n",
    "            low_z = mid_z\n",
    "        else:\n",
    "            hi_z = mid_z\n",
    "\n",
    "    return mid_z"
   ]
  },
  {
   "cell_type": "code",
   "execution_count": null,
   "id": "c6237597-c5d2-4ca7-8fa6-083c8b7ffb41",
   "metadata": {},
   "outputs": [],
   "source": []
  }
 ],
 "metadata": {
  "kernelspec": {
   "display_name": "Python 3 (ipykernel)",
   "language": "python",
   "name": "python3"
  },
  "language_info": {
   "codemirror_mode": {
    "name": "ipython",
    "version": 3
   },
   "file_extension": ".py",
   "mimetype": "text/x-python",
   "name": "python",
   "nbconvert_exporter": "python",
   "pygments_lexer": "ipython3",
   "version": "3.12.4"
  }
 },
 "nbformat": 4,
 "nbformat_minor": 5
}
