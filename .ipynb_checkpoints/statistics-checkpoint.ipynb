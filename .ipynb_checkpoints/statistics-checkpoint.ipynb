{
 "cells": [
  {
   "cell_type": "markdown",
   "id": "34707b63-3ea9-4e96-8618-6dd73e04f7cc",
   "metadata": {},
   "source": [
    "# Statistics:"
   ]
  },
  {
   "cell_type": "markdown",
   "id": "25f23173-8d7c-45b1-b502-35bb7996a269",
   "metadata": {},
   "source": [
    "## Describing a dataset:"
   ]
  },
  {
   "cell_type": "code",
   "execution_count": 6,
   "id": "aa888faf-2f85-4b46-befc-19420e3f55bc",
   "metadata": {},
   "outputs": [],
   "source": [
    "import random\n",
    "workers = 200\n",
    "num_friends = [random.randint(1, 100) for _ in range(workers)]\n",
    "#when using a list comprehension, use the left most field to assign a generated/fixed value to the list!!!"
   ]
  },
  {
   "cell_type": "code",
   "execution_count": 7,
   "id": "460e6c74-943a-45ff-8286-5f768c0dc347",
   "metadata": {},
   "outputs": [
    {
     "data": {
      "image/png": "[encoded data removed]",
      "text/plain": [
       "<Figure size 640x480 with 1 Axes>"
      ]
     },
     "metadata": {},
     "output_type": "display_data"
    }
   ],
   "source": [
    "from collections import Counter \n",
    "import matplotlib.pyplot as plt\n",
    "\n",
    "friend_counts = Counter(num_friends)\n",
    "xs = range(101)\n",
    "ys = [friend_counts[x] for x in xs]\n",
    "plt.bar(xs, ys)\n",
    "plt.axis([0, 101, 0, 25])\n",
    "plt.title(\"Histogram of Friend Counts\")\n",
    "plt.xlabel(\"Number of friends\")\n",
    "plt.ylabel(\"Number of people\")\n",
    "plt.show()"
   ]
  },
  {
   "cell_type": "code",
   "execution_count": 9,
   "id": "71b51125-2ad7-4ad6-b209-cc0fbba5b8fa",
   "metadata": {},
   "outputs": [],
   "source": [
    "num_points = len(num_friends)"
   ]
  },
  {
   "cell_type": "code",
   "execution_count": 10,
   "id": "4b54f94d-8e8e-40f6-bf6a-4f6e876482dd",
   "metadata": {},
   "outputs": [],
   "source": [
    "largest_value = max(num_friends)\n",
    "smallest_value = min(num_friends)"
   ]
  },
  {
   "cell_type": "code",
   "execution_count": 12,
   "id": "f7bebcbe-6740-4d86-ab7b-8586c50b50cc",
   "metadata": {},
   "outputs": [],
   "source": [
    "sorted_values = sorted(num_friends)\n",
    "top_3_smallest = sorted_values[:3]"
   ]
  },
  {
   "cell_type": "code",
   "execution_count": 13,
   "id": "ed7881b0-8093-4d98-9897-7d89b9ec1015",
   "metadata": {},
   "outputs": [
    {
     "name": "stdout",
     "output_type": "stream",
     "text": [
      "Largest value: 100, Smallest value: 1,  Top 3 smallest: [1, 1, 1]\n"
     ]
    }
   ],
   "source": [
    "print(f\"Largest value: { largest_value}, Smallest value: { smallest_value},  Top 3 smallest: { top_3_smallest}\")"
   ]
  },
  {
   "cell_type": "markdown",
   "id": "8f662c67-8f79-4d16-a7ea-48dc01e7f430",
   "metadata": {},
   "source": [
    "## Central tendency:"
   ]
  },
  {
   "cell_type": "markdown",
   "id": "babb7627-fe57-451f-b578-c2f8156b04ee",
   "metadata": {},
   "source": [
    "### Mean: Sum of the data divided by its count"
   ]
  },
  {
   "cell_type": "code",
   "execution_count": 15,
   "id": "775c4bf8-7b85-47e8-99eb-6a7392cbf5f5",
   "metadata": {},
   "outputs": [],
   "source": [
    "from typing import List"
   ]
  },
  {
   "cell_type": "code",
   "execution_count": 16,
   "id": "6e9cd9a2-dcbd-496a-8d42-4cc917c0b2a6",
   "metadata": {},
   "outputs": [],
   "source": [
    "def mean(xs:List[float]) -> float:\n",
    "    return sum(xs) / len(xs)"
   ]
  },
  {
   "cell_type": "code",
   "execution_count": 17,
   "id": "e6f9ce21-c7dd-4757-80cf-7a6a4dab7550",
   "metadata": {},
   "outputs": [
    {
     "data": {
      "text/plain": [
       "49.97"
      ]
     },
     "execution_count": 17,
     "metadata": {},
     "output_type": "execute_result"
    }
   ],
   "source": [
    "mean(num_friends) #when we increase the data points, the mean increases by .1"
   ]
  },
  {
   "cell_type": "code",
   "execution_count": 22,
   "id": "f8291ae3-0540-4d3c-ac4c-3298ab2089c2",
   "metadata": {},
   "outputs": [],
   "source": [
    "def _median_odd(xs: List[float]) -> float:\n",
    "    return sorted(xs)[len(xs)//2]"
   ]
  },
  {
   "cell_type": "code",
   "execution_count": 23,
   "id": "dd3ab4e1-f584-4c76-be8f-bda9d986d573",
   "metadata": {},
   "outputs": [],
   "source": [
    "def _median_even(xs: List[float]) -> float:\n",
    "    sorted_values = sorted(xs)\n",
    "    hi_mid_point = len(xs)//2\n",
    "    return (sorted_values[hi_mid_point] + sorted_values[hi_mid_point-1])/2"
   ]
  },
  {
   "cell_type": "code",
   "execution_count": 24,
   "id": "f7f8e40f-e384-4ebe-b02c-199dcfe54450",
   "metadata": {},
   "outputs": [],
   "source": [
    "def median(v: List[float]) -> float:\n",
    "    return _median_even(v) if len(v)%2 == 0 else _median_odd(v) "
   ]
  },
  {
   "cell_type": "code",
   "execution_count": 26,
   "id": "9a26fd8b-d450-4c7d-b334-06d16017031c",
   "metadata": {},
   "outputs": [],
   "source": [
    "assert median([1, 2, 3, 4, 5, 6, 7]) == 4\n",
    "assert median([1, 2, 3, 4, 5, 6]) == (3 + 4) / 2"
   ]
  },
  {
   "cell_type": "code",
   "execution_count": 27,
   "id": "56cfc9fc-9d33-47c3-bd11-4a847b9a90ed",
   "metadata": {},
   "outputs": [
    {
     "name": "stdout",
     "output_type": "stream",
     "text": [
      "47.5\n"
     ]
    }
   ],
   "source": [
    "print(median(num_friends))"
   ]
  },
  {
   "cell_type": "markdown",
   "id": "3601a2d7-6616-4040-a8ff-6d4393f9c6fb",
   "metadata": {},
   "source": [
    "### Quantile: separates a percentage of the data"
   ]
  },
  {
   "cell_type": "code",
   "execution_count": 28,
   "id": "fa19ae43-7057-4b62-a7f5-e13f52bbf579",
   "metadata": {},
   "outputs": [],
   "source": [
    "def quantile(xs: List[float], p: float) -> float:\n",
    "    p_index = int(p*len(xs))\n",
    "    return sorted(xs)[p_index]"
   ]
  },
  {
   "cell_type": "code",
   "execution_count": null,
   "id": "92344083-bff0-437a-8b7a-64633f9da769",
   "metadata": {},
   "outputs": [],
   "source": []
  }
 ],
 "metadata": {
  "kernelspec": {
   "display_name": "Python 3 (ipykernel)",
   "language": "python",
   "name": "python3"
  },
  "language_info": {
   "codemirror_mode": {
    "name": "ipython",
    "version": 3
   },
   "file_extension": ".py",
   "mimetype": "text/x-python",
   "name": "python",
   "nbconvert_exporter": "python",
   "pygments_lexer": "ipython3",
   "version": "3.12.4"
  }
 },
 "nbformat": 4,
 "nbformat_minor": 5
}
