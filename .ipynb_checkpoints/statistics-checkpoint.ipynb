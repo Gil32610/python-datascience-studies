{
 "cells": [
  {
   "cell_type": "markdown",
   "id": "34707b63-3ea9-4e96-8618-6dd73e04f7cc",
   "metadata": {},
   "source": [
    "# Statistics:"
   ]
  },
  {
   "cell_type": "code",
   "execution_count": 37,
   "id": "88fa49a9-d70a-4e96-b582-f1e2f691954f",
   "metadata": {},
   "outputs": [],
   "source": [
    "from scratch.lin_alg import LinearAlgebra"
   ]
  },
  {
   "cell_type": "markdown",
   "id": "25f23173-8d7c-45b1-b502-35bb7996a269",
   "metadata": {},
   "source": [
    "## Describing a dataset:"
   ]
  },
  {
   "cell_type": "code",
   "execution_count": 1,
   "id": "aa888faf-2f85-4b46-befc-19420e3f55bc",
   "metadata": {},
   "outputs": [],
   "source": [
    "import random\n",
    "workers = 200\n",
    "num_friends = [random.randint(1, 100) for _ in range(workers)]\n",
    "#when using a list comprehension, use the left most field to assign a generated/fixed value to the list!!!"
   ]
  },
  {
   "cell_type": "code",
   "execution_count": 2,
   "id": "460e6c74-943a-45ff-8286-5f768c0dc347",
   "metadata": {},
   "outputs": [
    {
     "data": {
      "image/png": "[encoded data removed]",
      "text/plain": [
       "<Figure size 640x480 with 1 Axes>"
      ]
     },
     "metadata": {},
     "output_type": "display_data"
    }
   ],
   "source": [
    "from collections import Counter \n",
    "import matplotlib.pyplot as plt\n",
    "\n",
    "friend_counts = Counter(num_friends)\n",
    "xs = range(101)\n",
    "ys = [friend_counts[x] for x in xs]\n",
    "plt.bar(xs, ys)\n",
    "plt.axis([0, 101, 0, 25])\n",
    "plt.title(\"Histogram of Friend Counts\")\n",
    "plt.xlabel(\"Number of friends\")\n",
    "plt.ylabel(\"Number of people\")\n",
    "plt.show()"
   ]
  },
  {
   "cell_type": "code",
   "execution_count": 3,
   "id": "71b51125-2ad7-4ad6-b209-cc0fbba5b8fa",
   "metadata": {},
   "outputs": [],
   "source": [
    "num_points = len(num_friends)"
   ]
  },
  {
   "cell_type": "code",
   "execution_count": 4,
   "id": "4b54f94d-8e8e-40f6-bf6a-4f6e876482dd",
   "metadata": {},
   "outputs": [],
   "source": [
    "largest_value = max(num_friends)\n",
    "smallest_value = min(num_friends)"
   ]
  },
  {
   "cell_type": "code",
   "execution_count": 5,
   "id": "f7bebcbe-6740-4d86-ab7b-8586c50b50cc",
   "metadata": {},
   "outputs": [],
   "source": [
    "sorted_values = sorted(num_friends)\n",
    "top_3_smallest = sorted_values[:3]"
   ]
  },
  {
   "cell_type": "code",
   "execution_count": 6,
   "id": "ed7881b0-8093-4d98-9897-7d89b9ec1015",
   "metadata": {},
   "outputs": [
    {
     "name": "stdout",
     "output_type": "stream",
     "text": [
      "Largest value: 100, Smallest value: 1,  Top 3 smallest: [1, 3, 3]\n"
     ]
    }
   ],
   "source": [
    "print(f\"Largest value: { largest_value}, Smallest value: { smallest_value},  Top 3 smallest: { top_3_smallest}\")"
   ]
  },
  {
   "cell_type": "markdown",
   "id": "8f662c67-8f79-4d16-a7ea-48dc01e7f430",
   "metadata": {},
   "source": [
    "## Central tendency:"
   ]
  },
  {
   "cell_type": "markdown",
   "id": "babb7627-fe57-451f-b578-c2f8156b04ee",
   "metadata": {},
   "source": [
    "### Mean: Sum of the data divided by its count"
   ]
  },
  {
   "cell_type": "code",
   "execution_count": 7,
   "id": "775c4bf8-7b85-47e8-99eb-6a7392cbf5f5",
   "metadata": {},
   "outputs": [],
   "source": [
    "from typing import List"
   ]
  },
  {
   "cell_type": "code",
   "execution_count": 8,
   "id": "6e9cd9a2-dcbd-496a-8d42-4cc917c0b2a6",
   "metadata": {},
   "outputs": [],
   "source": [
    "def mean(xs:List[float]) -> float:\n",
    "    return sum(xs) / len(xs)"
   ]
  },
  {
   "cell_type": "code",
   "execution_count": 9,
   "id": "e6f9ce21-c7dd-4757-80cf-7a6a4dab7550",
   "metadata": {},
   "outputs": [
    {
     "data": {
      "text/plain": [
       "51.655"
      ]
     },
     "execution_count": 9,
     "metadata": {},
     "output_type": "execute_result"
    }
   ],
   "source": [
    "mean(num_friends) #when we increase the data points, the mean increases by .1"
   ]
  },
  {
   "cell_type": "code",
   "execution_count": 10,
   "id": "f8291ae3-0540-4d3c-ac4c-3298ab2089c2",
   "metadata": {},
   "outputs": [],
   "source": [
    "def _median_odd(xs: List[float]) -> float:\n",
    "    return sorted(xs)[len(xs)//2]"
   ]
  },
  {
   "cell_type": "code",
   "execution_count": 11,
   "id": "dd3ab4e1-f584-4c76-be8f-bda9d986d573",
   "metadata": {},
   "outputs": [],
   "source": [
    "def _median_even(xs: List[float]) -> float:\n",
    "    sorted_values = sorted(xs)\n",
    "    hi_mid_point = len(xs)//2\n",
    "    return (sorted_values[hi_mid_point] + sorted_values[hi_mid_point-1])/2"
   ]
  },
  {
   "cell_type": "code",
   "execution_count": 12,
   "id": "f7f8e40f-e384-4ebe-b02c-199dcfe54450",
   "metadata": {},
   "outputs": [],
   "source": [
    "def median(v: List[float]) -> float:\n",
    "    return _median_even(v) if len(v)%2 == 0 else _median_odd(v) "
   ]
  },
  {
   "cell_type": "code",
   "execution_count": 13,
   "id": "9a26fd8b-d450-4c7d-b334-06d16017031c",
   "metadata": {},
   "outputs": [],
   "source": [
    "assert median([1, 2, 3, 4, 5, 6, 7]) == 4\n",
    "assert median([1, 2, 3, 4, 5, 6]) == (3 + 4) / 2"
   ]
  },
  {
   "cell_type": "code",
   "execution_count": 14,
   "id": "56cfc9fc-9d33-47c3-bd11-4a847b9a90ed",
   "metadata": {},
   "outputs": [
    {
     "name": "stdout",
     "output_type": "stream",
     "text": [
      "51.0\n"
     ]
    }
   ],
   "source": [
    "print(median(num_friends))"
   ]
  },
  {
   "cell_type": "markdown",
   "id": "3601a2d7-6616-4040-a8ff-6d4393f9c6fb",
   "metadata": {},
   "source": [
    "### Quantile: separates a percentage of the data (generalization of the median)"
   ]
  },
  {
   "cell_type": "code",
   "execution_count": 15,
   "id": "fa19ae43-7057-4b62-a7f5-e13f52bbf579",
   "metadata": {},
   "outputs": [],
   "source": [
    "def quantile(xs: List[float], p: float) -> float:\n",
    "    p_index = int(p*len(xs))\n",
    "    return sorted(xs)[p_index]"
   ]
  },
  {
   "cell_type": "markdown",
   "id": "1ed99930-0f06-4898-82da-0595bc4e7b24",
   "metadata": {},
   "source": [
    "### Mode: most frequent values:"
   ]
  },
  {
   "cell_type": "code",
   "execution_count": 16,
   "id": "033ddf9a-5b98-4a9c-804c-ee726f018b16",
   "metadata": {},
   "outputs": [],
   "source": [
    "def mode(x:List[float]) -> List[float]:\n",
    "    counts = Counter(x)\n",
    "    max_count = max(counts.values())\n",
    "    return [x_i for x_i, count in counts.items() if count  == max_count]\n",
    "    "
   ]
  },
  {
   "cell_type": "code",
   "execution_count": 17,
   "id": "ba5e44fb-b653-4839-bf91-c5f0857aa584",
   "metadata": {},
   "outputs": [],
   "source": [
    "assert set(mode([1, 2, 1, 1])) == {1}"
   ]
  },
  {
   "cell_type": "markdown",
   "id": "11b93bae-2e67-4ff5-b6d4-88a6f8ea0975",
   "metadata": {},
   "source": [
    "## Dispersion: measures the data distribution"
   ]
  },
  {
   "cell_type": "code",
   "execution_count": 18,
   "id": "bbff02f8-5005-42ac-9cd5-6f9d64c8917f",
   "metadata": {},
   "outputs": [],
   "source": [
    "#data range determines the difference the max data-point and min data-point\n",
    "def data_range(xs:List[float]) -> float:\n",
    "    return max(xs) - min(xs) #non-dependent of values"
   ]
  },
  {
   "cell_type": "code",
   "execution_count": 19,
   "id": "2c330f7b-c01c-4670-ab99-8ceee84187cf",
   "metadata": {},
   "outputs": [],
   "source": [
    "assert data_range(num_friends) == 99"
   ]
  },
  {
   "cell_type": "code",
   "execution_count": 22,
   "id": "0264e056-250a-40cb-b810-6ca530782082",
   "metadata": {},
   "outputs": [],
   "source": [
    "def de_mean(xs: List[float]) -> List[float]:\n",
    "    x_bar = mean(xs)\n",
    "    #Translating the values subtracting the mean (result will have mean 0)\n",
    "    return [x - x_bar for x in xs]"
   ]
  },
  {
   "cell_type": "code",
   "execution_count": 25,
   "id": "7c0b02dd-5e89-441e-848a-31838bd3a93c",
   "metadata": {},
   "outputs": [],
   "source": [
    "def variance(xs: List[float]) -> float:\n",
    "    assert len(xs) >= 2, \"variance requires at least two elements\"\n",
    "\n",
    "    n = len(xs)\n",
    "    deviations = de_mean(xs)\n",
    "    return LinearAlgebra.sum_of_squares(deviations) / (n - 1)"
   ]
  },
  {
   "cell_type": "code",
   "execution_count": 28,
   "id": "7c5a1a29-40eb-4bfa-affc-146490c41e64",
   "metadata": {},
   "outputs": [
    {
     "name": "stdout",
     "output_type": "stream",
     "text": [
      "816.4180653266332\n"
     ]
    }
   ],
   "source": [
    "assert 815.78 < variance(num_friends) < 817.80"
   ]
  },
  {
   "cell_type": "markdown",
   "id": "d6ced92b-c26a-47c3-9892-630befa43c9c",
   "metadata": {},
   "source": [
    "### Standard Deviation: calculates the average distance of each data point from the mean"
   ]
  },
  {
   "cell_type": "code",
   "execution_count": 29,
   "id": "da063055-f801-4b74-9208-eb8365dcb288",
   "metadata": {},
   "outputs": [],
   "source": [
    "import math\n",
    "\n",
    "def standard_deviation(xs: List[float]) -> float:\n",
    "    #average distance of each data point from the mean\n",
    "    return math.sqrt(variance(xs))"
   ]
  },
  {
   "cell_type": "code",
   "execution_count": 32,
   "id": "6daf5635-bda7-4b2e-9107-5ebf204ca68c",
   "metadata": {},
   "outputs": [
    {
     "name": "stdout",
     "output_type": "stream",
     "text": [
      "28.573030384028804\n"
     ]
    }
   ],
   "source": [
    "assert 28.28 < standard_deviation(num_friends) < 28.60"
   ]
  },
  {
   "cell_type": "markdown",
   "id": "97268f59-a9b2-4266-aca8-0e8d743fb347",
   "metadata": {},
   "source": [
    "### Interquartile range: calculates difference between between 75º percentile and 25º percentile"
   ]
  },
  {
   "cell_type": "markdown",
   "id": "80c2a9b2-4c7f-4295-8ddc-845f0aba80ae",
   "metadata": {},
   "source": [
    "#### It does not take outliers into account, so it is a fair central tendency."
   ]
  },
  {
   "cell_type": "code",
   "execution_count": 33,
   "id": "369eb301-5cc0-4aca-baa5-a55dad464ff5",
   "metadata": {},
   "outputs": [],
   "source": [
    "def innterquartile_range(xs:List[float]) -> float:\n",
    "    return quantile(xs, .75) - quantile(xs, .25)"
   ]
  },
  {
   "cell_type": "code",
   "execution_count": 36,
   "id": "2136989b-ceda-4472-8a8f-7872378d9a41",
   "metadata": {},
   "outputs": [
    {
     "name": "stdout",
     "output_type": "stream",
     "text": [
      "52\n"
     ]
    }
   ],
   "source": [
    "assert innterquartile_range(num_friends) == 52"
   ]
  },
  {
   "cell_type": "markdown",
   "id": "012ed434-8e1e-4977-b7f8-a7f1e1cebaee",
   "metadata": {},
   "source": [
    "## Correlation:"
   ]
  },
  {
   "cell_type": "markdown",
   "id": "66b5636b-b507-43a8-a280-99e0254864ac",
   "metadata": {},
   "source": [
    "### Covariance: Variance applied to pairs"
   ]
  },
  {
   "cell_type": "code",
   "execution_count": 38,
   "id": "4325a2e6-adb9-4228-9e22-07940dccc52a",
   "metadata": {},
   "outputs": [],
   "source": [
    "def covariance(xs: List[float], ys: List[float]) ->float:\n",
    "    assert len(xs) == len(ys), \"Vectors must have same number of elements!\"\n",
    "    return LinearAlgebra.dot(de_mean(xs), de_mean(ys))/ (len(xs) -1)"
   ]
  },
  {
   "cell_type": "code",
   "execution_count": 43,
   "id": "6b1f4993-18db-4b50-a17c-b7282d7b6fd2",
   "metadata": {},
   "outputs": [],
   "source": [
    "num_of_minutes = [random.randint(1, 100) for _ in range(workers)]\n",
    "num_of_hours = [x/60 for x in num_of_minutes]"
   ]
  },
  {
   "cell_type": "code",
   "execution_count": 46,
   "id": "d228ab22-6421-4b3a-a1c6-7261cf4246c4",
   "metadata": {},
   "outputs": [
    {
     "name": "stdout",
     "output_type": "stream",
     "text": [
      "num_friends_minutes_cov: -135.42748743718593\n"
     ]
    }
   ],
   "source": [
    "num_friends_minutes_cov = covariance(num_friends, num_of_minutes)\n",
    "print(f\"num_friends_minutes_cov: {num_friends_minutes_cov}\") "
   ]
  },
  {
   "cell_type": "markdown",
   "id": "37c1b739-4933-4f7a-b983-809d13031928",
   "metadata": {},
   "source": [
    "When the product of corresponding values above or below the mean is performed, a positive component is introduced in the sum. When a corresponding value is below the mean and the other above, a negative value is introduced in the sum."
   ]
  },
  {
   "cell_type": "markdown",
   "id": "1dc9b07b-6cd3-45cf-b0aa-6c4818ea7bb1",
   "metadata": {},
   "source": [
    "- A larger positive covariance: x is larger when y is larger, and x is smaller when y is smaller;\n",
    "- A larger negative covariance: x is larger when y is smaller, and x is smaller when y is smaller;\n",
    "- A covariance close to 0 says that this relation does not exists."
   ]
  },
  {
   "cell_type": "markdown",
   "id": "dab9e71a-5626-4b79-8278-070927abd0bb",
   "metadata": {},
   "source": [
    "There is a problem! The units of the product are the units of the input (num_friends * num_of_minutes), a harder to understand measure. Also, if the number of friends was scaled by a factor of 2 and the number of minutes remained the samee, the covariance would be twice as large."
   ]
  },
  {
   "cell_type": "markdown",
   "id": "5b4b4435-c44d-4e28-9e18-fcc864518360",
   "metadata": {},
   "source": [
    "## Correlation: divides the standard deviation from both variables (covariance)"
   ]
  },
  {
   "cell_type": "code",
   "execution_count": 47,
   "id": "31905861-a103-4814-abb9-5a488a45adab",
   "metadata": {},
   "outputs": [],
   "source": [
    "def correlation(xs:List[float], ys:List[float]) -> float:\n",
    "    std_x = standard_deviation(xs)\n",
    "    std_y = standard_deviation(ys)\n",
    "    if std_x > 0 and std_y > 0:\n",
    "        return covariance(xs, ys)/std_x/std_y\n",
    "    else:\n",
    "        return 0"
   ]
  },
  {
   "cell_type": "code",
   "execution_count": 48,
   "id": "4c030e84-9912-468d-b370-f636b5a82281",
   "metadata": {},
   "outputs": [
    {
     "name": "stdout",
     "output_type": "stream",
     "text": [
      "correlation of num. minutes and num. friends -0.16892883586852556\n"
     ]
    }
   ],
   "source": [
    "corr_friends_minutes = correlation(num_friends, num_of_minutes)\n",
    "print(f\"correlation of num. minutes and num. friends { corr_friends_minutes}\")"
   ]
  },
  {
   "cell_type": "markdown",
   "id": "4ceeed57-112c-4711-98e0-d4c9790f9120",
   "metadata": {},
   "source": [
    "Outliers can cause a negative impact on the correlation!!! Make sure to take them out!!!"
   ]
  },
  {
   "cell_type": "code",
   "execution_count": null,
   "id": "d06949fd-513f-4d59-a62f-40c07374da17",
   "metadata": {},
   "outputs": [],
   "source": []
  }
 ],
 "metadata": {
  "kernelspec": {
   "display_name": "Python 3 (ipykernel)",
   "language": "python",
   "name": "python3"
  },
  "language_info": {
   "codemirror_mode": {
    "name": "ipython",
    "version": 3
   },
   "file_extension": ".py",
   "mimetype": "text/x-python",
   "name": "python",
   "nbconvert_exporter": "python",
   "pygments_lexer": "ipython3",
   "version": "3.12.4"
  }
 },
 "nbformat": 4,
 "nbformat_minor": 5
}
