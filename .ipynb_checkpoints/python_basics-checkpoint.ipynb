{
 "cells": [
  {
   "cell_type": "markdown",
   "id": "ff4e0a27-bbfc-4246-bd76-db4a79d23941",
   "metadata": {},
   "source": [
    "## Lists:"
   ]
  },
  {
   "cell_type": "code",
   "execution_count": 1,
   "id": "5006908e-4f09-4594-aaa9-0cbb01918a2a",
   "metadata": {},
   "outputs": [],
   "source": [
    "integer_list = [1,2,3,4,5]"
   ]
  },
  {
   "cell_type": "code",
   "execution_count": 2,
   "id": "121dff82-af1d-4230-9956-b18b14f8c9b9",
   "metadata": {},
   "outputs": [],
   "source": [
    "heterogeneous_list = [\"Meu nome é gil!\", 417.0, False]"
   ]
  },
  {
   "cell_type": "code",
   "execution_count": 3,
   "id": "c8332681-1af2-48cd-95e0-2cebf4bff957",
   "metadata": {},
   "outputs": [],
   "source": [
    "list_of_lists = [integer_list, heterogeneous_list, []]"
   ]
  },
  {
   "cell_type": "code",
   "execution_count": 4,
   "id": "55dd69dd-8b3c-43a6-bb2b-98971f592927",
   "metadata": {},
   "outputs": [],
   "source": [
    "x = [0,1,2,3,4,5,6,7,8,9]"
   ]
  },
  {
   "cell_type": "code",
   "execution_count": 5,
   "id": "cb83fa84-4b2b-437d-9a07-fbb89306e689",
   "metadata": {},
   "outputs": [
    {
     "name": "stdout",
     "output_type": "stream",
     "text": [
      "[0, 1, 2]\n"
     ]
    }
   ],
   "source": [
    "first_three = x[:3]\n",
    "print(first_three)"
   ]
  },
  {
   "cell_type": "code",
   "execution_count": 6,
   "id": "6cdedb87-10d8-4223-b0a0-a8de617e4bbf",
   "metadata": {},
   "outputs": [
    {
     "name": "stdout",
     "output_type": "stream",
     "text": [
      "[3, 4, 5, 6, 7, 8, 9]\n"
     ]
    }
   ],
   "source": [
    "three_to_end = x[3:]\n",
    "print(three_to_end)"
   ]
  },
  {
   "cell_type": "code",
   "execution_count": 7,
   "id": "642b7280-e909-450d-abef-bc737ab7e4c5",
   "metadata": {},
   "outputs": [
    {
     "name": "stdout",
     "output_type": "stream",
     "text": [
      "[1, 2, 3, 4]\n"
     ]
    }
   ],
   "source": [
    "one_to_four = x[1:5]\n",
    "print(one_to_four)"
   ]
  },
  {
   "cell_type": "code",
   "execution_count": 8,
   "id": "10849936-c50e-4ab3-9ade-2c9f06abda30",
   "metadata": {},
   "outputs": [
    {
     "name": "stdout",
     "output_type": "stream",
     "text": [
      "[7, 8, 9]\n"
     ]
    }
   ],
   "source": [
    "last_three= x[-3:]\n",
    "print(last_three)"
   ]
  },
  {
   "cell_type": "code",
   "execution_count": 9,
   "id": "121d5e55-d702-44e5-8b88-1ce77f03a595",
   "metadata": {},
   "outputs": [
    {
     "name": "stdout",
     "output_type": "stream",
     "text": [
      "[1, 2, 3, 4, 5, 6, 7, 8]\n"
     ]
    }
   ],
   "source": [
    "without_first_and_last = x[1:-1]\n",
    "print(without_first_and_last)"
   ]
  },
  {
   "cell_type": "code",
   "execution_count": 10,
   "id": "6a26f433-8230-4535-841c-afe436676ada",
   "metadata": {},
   "outputs": [
    {
     "name": "stdout",
     "output_type": "stream",
     "text": [
      "[0, 3, 6, 9]\n"
     ]
    }
   ],
   "source": [
    "every_third = x[::3]\n",
    "print(every_third)"
   ]
  },
  {
   "cell_type": "code",
   "execution_count": 11,
   "id": "22d7ef6a-0104-4f7e-a401-ff14f60707d6",
   "metadata": {},
   "outputs": [
    {
     "name": "stdout",
     "output_type": "stream",
     "text": [
      "[5, 4, 3]\n"
     ]
    }
   ],
   "source": [
    "five_to_three = x[5:2:-1]\n",
    "print(five_to_three)"
   ]
  },
  {
   "cell_type": "code",
   "execution_count": 12,
   "id": "9d29b79e-d063-468f-9fc9-a5c331621a24",
   "metadata": {},
   "outputs": [
    {
     "data": {
      "text/plain": [
       "False"
      ]
     },
     "execution_count": 12,
     "metadata": {},
     "output_type": "execute_result"
    }
   ],
   "source": [
    "12 in x"
   ]
  },
  {
   "cell_type": "code",
   "execution_count": 13,
   "id": "a9e34bc0-4054-4529-978b-16161525ac7d",
   "metadata": {},
   "outputs": [
    {
     "data": {
      "text/plain": [
       "True"
      ]
     },
     "execution_count": 13,
     "metadata": {},
     "output_type": "execute_result"
    }
   ],
   "source": [
    "0 in x"
   ]
  },
  {
   "cell_type": "code",
   "execution_count": 14,
   "id": "513c7e36-d596-4f1d-a47f-52eb29d6852f",
   "metadata": {},
   "outputs": [
    {
     "name": "stdout",
     "output_type": "stream",
     "text": [
      "[0, 1, 2, 3, 4, 5, 6, 7, 8, 9, 10, 11, 12, 13]\n"
     ]
    }
   ],
   "source": [
    "y = [10,11,12,13]\n",
    "x.extend(y)\n",
    "print(x)"
   ]
  },
  {
   "cell_type": "code",
   "execution_count": 15,
   "id": "6c4268fc-6aaa-40dd-992b-2306ffd58ce6",
   "metadata": {},
   "outputs": [
    {
     "name": "stdout",
     "output_type": "stream",
     "text": [
      "[0, 1, 2, 3, 4, 5, 6, 7, 8, 9, 10, 11, 12, 13, 10, 11, 12, 13]\n"
     ]
    }
   ],
   "source": [
    "y = [10,11,12,13]\n",
    "y = x + y\n",
    "print(y)"
   ]
  },
  {
   "cell_type": "code",
   "execution_count": 16,
   "id": "c0a446f8-f43c-4199-b3ba-8acd7f7986f8",
   "metadata": {},
   "outputs": [
    {
     "name": "stdout",
     "output_type": "stream",
     "text": [
      "[1, 2, 3, 0]\n"
     ]
    }
   ],
   "source": [
    "x = [1,2,3]\n",
    "x.append(0)\n",
    "print(x)"
   ]
  },
  {
   "cell_type": "code",
   "execution_count": 17,
   "id": "f2165a00-b54d-4b16-81d5-3122c6de873a",
   "metadata": {},
   "outputs": [
    {
     "name": "stdout",
     "output_type": "stream",
     "text": [
      "last element 0 size 4\n"
     ]
    }
   ],
   "source": [
    "last_element = x[-1]\n",
    "size = len(x)\n",
    "print(\"last element\", last_element, \"size\", size)"
   ]
  },
  {
   "cell_type": "code",
   "execution_count": 18,
   "id": "a21f5375-fc36-452e-991f-3344fb41a020",
   "metadata": {},
   "outputs": [
    {
     "name": "stdout",
     "output_type": "stream",
     "text": [
      "1 2\n"
     ]
    }
   ],
   "source": [
    "a, b  = [1,2]\n",
    "print(a, b)"
   ]
  },
  {
   "cell_type": "code",
   "execution_count": 19,
   "id": "ed3fd0cb-d0e8-4b0a-9ab2-1deefe751848",
   "metadata": {},
   "outputs": [
    {
     "name": "stdout",
     "output_type": "stream",
     "text": [
      "4\n"
     ]
    }
   ],
   "source": [
    "_, d = [3, 4]\n",
    "print(d)"
   ]
  },
  {
   "cell_type": "markdown",
   "id": "6cce1f97-577a-4a6f-a80d-1eb29254f046",
   "metadata": {},
   "source": [
    "## Tuples:"
   ]
  },
  {
   "cell_type": "code",
   "execution_count": 20,
   "id": "982a9cb6-ccde-4d91-a936-6800c982b6ca",
   "metadata": {},
   "outputs": [
    {
     "name": "stdout",
     "output_type": "stream",
     "text": [
      "Cannot modify a tuple\n"
     ]
    }
   ],
   "source": [
    "my_list = [10, 20]\n",
    "my_tuple = (1, 2)\n",
    "other_tuple = 3, 4\n",
    "my_list[1] = 3\n",
    "\n",
    "try:\n",
    "    my_tuple[1] = 20\n",
    "except TypeError:\n",
    "    print(\"Cannot modify a tuple\")"
   ]
  },
  {
   "cell_type": "code",
   "execution_count": 21,
   "id": "62150aaf-efec-4055-a5d1-e65ac2ec755e",
   "metadata": {},
   "outputs": [],
   "source": [
    "def sum_and_product(x, y):\n",
    "    return (x + y), (x * y)\n",
    "\n",
    "sp = sum_and_product(2,3)\n",
    "s, p = sum_and_product(5,6)"
   ]
  },
  {
   "cell_type": "code",
   "execution_count": 22,
   "id": "298ba4b9-bd63-4827-8da1-af087ed2e9f8",
   "metadata": {},
   "outputs": [
    {
     "name": "stdout",
     "output_type": "stream",
     "text": [
      "sp: (5, 6) s: 11 p: 30\n"
     ]
    }
   ],
   "source": [
    "print(\"sp:\", sp, \"s:\", s, \"p:\", p)"
   ]
  },
  {
   "cell_type": "markdown",
   "id": "fa7e6f67-258c-46ba-ba04-e76318533022",
   "metadata": {},
   "source": [
    "### Variable swapping:"
   ]
  },
  {
   "cell_type": "code",
   "execution_count": 23,
   "id": "dc35697e-94c4-4525-bf4c-b16984fd3d17",
   "metadata": {},
   "outputs": [
    {
     "name": "stdout",
     "output_type": "stream",
     "text": [
      "original values x: 1 y: 2\n",
      "swapped values x: 2 y: 1\n"
     ]
    }
   ],
   "source": [
    "x, y = 1, 2\n",
    "print(\"original values\", \"x:\", x, \"y:\", y)\n",
    "x, y = y, x\n",
    "print(\"swapped values\", \"x:\", x, \"y:\", y)"
   ]
  },
  {
   "cell_type": "markdown",
   "id": "2d85f3ca-8940-4c96-b445-f3e1071a68aa",
   "metadata": {},
   "source": [
    "## Dictionaries:"
   ]
  },
  {
   "cell_type": "code",
   "execution_count": 24,
   "id": "ebf1c72a-14d1-4d3a-96c7-58617274f72f",
   "metadata": {},
   "outputs": [],
   "source": [
    "empty_dict = {}\n",
    "empty_dict2 = dict()\n",
    "grades = {\"Joel\": 92, \"Ellie\": 90}"
   ]
  },
  {
   "cell_type": "code",
   "execution_count": 25,
   "id": "a209c5b0-716c-44c2-b426-14d0ff6b4245",
   "metadata": {},
   "outputs": [],
   "source": [
    "joels_grade = grades[\"Joel\"]\n",
    "ellies_grade = grades[\"Ellie\"]"
   ]
  },
  {
   "cell_type": "code",
   "execution_count": 26,
   "id": "77e219c3-45b9-44d3-804f-05f0c48dcfee",
   "metadata": {},
   "outputs": [
    {
     "name": "stdout",
     "output_type": "stream",
     "text": [
      "Joel's grade: 92 Ellie's grade: 90\n"
     ]
    }
   ],
   "source": [
    "print(\"Joel's grade:\", joels_grade, \"Ellie's grade:\", ellies_grade)"
   ]
  },
  {
   "cell_type": "code",
   "execution_count": 27,
   "id": "89b5072e-ded9-4e2b-bf93-b881cab67d56",
   "metadata": {},
   "outputs": [
    {
     "name": "stdout",
     "output_type": "stream",
     "text": [
      "True\n"
     ]
    }
   ],
   "source": [
    "joel_hasgrade = \"Joel\" in grades\n",
    "print(joel_hasgrade)"
   ]
  },
  {
   "cell_type": "code",
   "execution_count": 28,
   "id": "e027c4e1-f354-4afb-83e3-2e8739b0d6d3",
   "metadata": {},
   "outputs": [],
   "source": [
    "joels_grade = grades.get(\"Joel\", 0)"
   ]
  },
  {
   "cell_type": "code",
   "execution_count": 29,
   "id": "0455fa20-b662-46ab-8fe0-6e967f4d8253",
   "metadata": {},
   "outputs": [],
   "source": [
    "fire_fly = grades.get(\"FireFly\")"
   ]
  },
  {
   "cell_type": "code",
   "execution_count": 30,
   "id": "192e0edf-a549-43ce-8159-99d4cded8542",
   "metadata": {},
   "outputs": [
    {
     "name": "stdout",
     "output_type": "stream",
     "text": [
      "Joel's grade: 92 FireFly's grade: None\n"
     ]
    }
   ],
   "source": [
    "print(\"Joel's grade:\", joels_grade, \"FireFly's grade:\", fire_fly)"
   ]
  },
  {
   "cell_type": "code",
   "execution_count": 31,
   "id": "9732a11d-3425-4bcf-a759-62f4f60d7878",
   "metadata": {},
   "outputs": [],
   "source": [
    "grades[\"FireFly\"] = 100"
   ]
  },
  {
   "cell_type": "code",
   "execution_count": 32,
   "id": "30242f04-bd27-4029-be21-0f9a4e79b0fc",
   "metadata": {},
   "outputs": [
    {
     "name": "stdout",
     "output_type": "stream",
     "text": [
      "{'Joel': 92, 'Ellie': 90, 'FireFly': 100}\n"
     ]
    }
   ],
   "source": [
    "print(grades)"
   ]
  },
  {
   "cell_type": "code",
   "execution_count": 33,
   "id": "66620db7-80d8-4ea5-9a49-ca1038d2cee9",
   "metadata": {},
   "outputs": [],
   "source": [
    "tweet = {\n",
    "    \"user\" : \"gilaraujo\",\n",
    "    \"text\" : \"hoje é um dia como outro qualquer\",\n",
    "    \"retweet_count\" : 300,\n",
    "    \"hashtags\" : [\"#allthesame\", \"#boring\"]\n",
    "}"
   ]
  },
  {
   "cell_type": "code",
   "execution_count": 34,
   "id": "4610889f-e332-41cf-a66b-30cf89d7bab4",
   "metadata": {},
   "outputs": [
    {
     "name": "stdout",
     "output_type": "stream",
     "text": [
      "{'user': 'gilaraujo', 'text': 'hoje é um dia como outro qualquer', 'retweet_count': 300, 'hashtags': ['#allthesame', '#boring']}\n"
     ]
    }
   ],
   "source": [
    "print(tweet)"
   ]
  },
  {
   "cell_type": "code",
   "execution_count": 35,
   "id": "ceae7db6-1c3a-4cf1-8cdd-1f3c55efc06a",
   "metadata": {},
   "outputs": [
    {
     "name": "stdout",
     "output_type": "stream",
     "text": [
      "dict_keys(['user', 'text', 'retweet_count', 'hashtags'])\n"
     ]
    }
   ],
   "source": [
    "tweet_keys = tweet.keys()\n",
    "print(tweet_keys)"
   ]
  },
  {
   "cell_type": "code",
   "execution_count": 36,
   "id": "0d43dca5-9021-4473-a31b-f95831336986",
   "metadata": {},
   "outputs": [
    {
     "name": "stdout",
     "output_type": "stream",
     "text": [
      "dict_values(['gilaraujo', 'hoje é um dia como outro qualquer', 300, ['#allthesame', '#boring']])\n"
     ]
    }
   ],
   "source": [
    "tweet_values = tweet.values()\n",
    "print(tweet_values)"
   ]
  },
  {
   "cell_type": "code",
   "execution_count": 37,
   "id": "ff63bcd4-63bd-41aa-918f-e74e70f4dfd2",
   "metadata": {},
   "outputs": [
    {
     "name": "stdout",
     "output_type": "stream",
     "text": [
      "dict_items([('user', 'gilaraujo'), ('text', 'hoje é um dia como outro qualquer'), ('retweet_count', 300), ('hashtags', ['#allthesame', '#boring'])])\n"
     ]
    }
   ],
   "source": [
    "tweet_items = tweet.items()\n",
    "print(tweet_items)"
   ]
  },
  {
   "cell_type": "code",
   "execution_count": 38,
   "id": "5544db9e-a188-4309-bb89-37b8e45bc38d",
   "metadata": {},
   "outputs": [
    {
     "data": {
      "text/plain": [
       "True"
      ]
     },
     "execution_count": 38,
     "metadata": {},
     "output_type": "execute_result"
    }
   ],
   "source": [
    "\"user\" in tweet"
   ]
  },
  {
   "cell_type": "code",
   "execution_count": 39,
   "id": "fd233b9b-bc8a-4df3-9882-9c9e522bba62",
   "metadata": {},
   "outputs": [
    {
     "data": {
      "text/plain": [
       "False"
      ]
     },
     "execution_count": 39,
     "metadata": {},
     "output_type": "execute_result"
    }
   ],
   "source": [
    "\"malena\" in tweet_values"
   ]
  },
  {
   "cell_type": "markdown",
   "id": "84ecc5f4-98cc-4ffe-a628-d094f5ce77fb",
   "metadata": {},
   "source": [
    "## Defaultdict:"
   ]
  },
  {
   "cell_type": "code",
   "execution_count": 40,
   "id": "680d817c-6a6a-4760-8936-fa4ad5f02596",
   "metadata": {},
   "outputs": [],
   "source": [
    "from collections import defaultdict"
   ]
  },
  {
   "cell_type": "code",
   "execution_count": null,
   "id": "8a386b6d-ed82-423f-a2e7-f3a2aab8ff5e",
   "metadata": {},
   "outputs": [],
   "source": [
    "#better say sorry than ask for permission\n",
    "word_counts = {}\n",
    "for word in document:\n",
    "    try:\n",
    "        word_counts[word] += 1\n",
    "    except KeyError:\n",
    "        word_counts[word] = 1"
   ]
  },
  {
   "cell_type": "code",
   "execution_count": null,
   "id": "011cd277-e1f5-4cb4-af43-0159b7c76dec",
   "metadata": {},
   "outputs": [],
   "source": [
    "word_count = {}\n",
    "for word in document:\n",
    "    previous_count = word_count.get(word, 0)\n",
    "    word_count[word] = previous_count+1"
   ]
  },
  {
   "cell_type": "code",
   "execution_count": null,
   "id": "583105bb-ff26-4b6b-8c64-49167de6fc25",
   "metadata": {},
   "outputs": [],
   "source": [
    "word_counts = defaultdict(int)\n",
    "for word in document:\n",
    "    word_counts[word] += 1"
   ]
  },
  {
   "cell_type": "code",
   "execution_count": 41,
   "id": "f2a5c7c6-f90b-4f5f-97ed-19b964f0e57c",
   "metadata": {},
   "outputs": [],
   "source": [
    "dd_list = defaultdict(list)"
   ]
  },
  {
   "cell_type": "code",
   "execution_count": 42,
   "id": "fcad58b1-510f-400d-92f3-be9c47f71e9d",
   "metadata": {},
   "outputs": [],
   "source": [
    "dd_list[2].append(3)"
   ]
  },
  {
   "cell_type": "code",
   "execution_count": 43,
   "id": "5b150fe0-5df6-4f55-b216-d5b16a8b9ea3",
   "metadata": {},
   "outputs": [],
   "source": [
    "dd_list[1].append(4)"
   ]
  },
  {
   "cell_type": "code",
   "execution_count": 44,
   "id": "1eb87ddd-7bc5-44a8-88fa-aad5eacd704f",
   "metadata": {},
   "outputs": [
    {
     "name": "stdout",
     "output_type": "stream",
     "text": [
      "defaultdict(<class 'list'>, {2: [3], 1: [4]})\n"
     ]
    }
   ],
   "source": [
    "print(dd_list)"
   ]
  },
  {
   "cell_type": "code",
   "execution_count": 45,
   "id": "1e05ebbf-3c7e-4a13-875d-3ef4c107bf42",
   "metadata": {},
   "outputs": [
    {
     "name": "stdout",
     "output_type": "stream",
     "text": [
      "defaultdict(<class 'dict'>, {'joel': {'city': 'Seattle'}})\n"
     ]
    }
   ],
   "source": [
    "dd_dict = defaultdict(dict)\n",
    "dd_dict[\"joel\"][\"city\"] = \"Seattle\"\n",
    "print(dd_dict)"
   ]
  },
  {
   "cell_type": "code",
   "execution_count": 46,
   "id": "2d6d5c26-8518-4670-87c3-e28f4e4251d0",
   "metadata": {},
   "outputs": [
    {
     "name": "stdout",
     "output_type": "stream",
     "text": [
      "defaultdict(<function <lambda> at 0x0000021C38D3B7E0>, {2: [0, 1]})\n"
     ]
    }
   ],
   "source": [
    "dd_pair = defaultdict(lambda: [0, 0])\n",
    "dd_pair[2][1] = 1\n",
    "print(dd_pair)"
   ]
  },
  {
   "cell_type": "markdown",
   "id": "03fae1a0-cfc8-40e1-b779-4e4700385a3b",
   "metadata": {},
   "source": [
    "## Counters:"
   ]
  },
  {
   "cell_type": "code",
   "execution_count": 48,
   "id": "720ab218-7fc8-4a12-8105-bd92b2d64824",
   "metadata": {},
   "outputs": [],
   "source": [
    "from collections import Counter"
   ]
  },
  {
   "cell_type": "code",
   "execution_count": 51,
   "id": "9082be64-9419-41b3-b16d-aeec3fc0e01b",
   "metadata": {},
   "outputs": [
    {
     "data": {
      "text/plain": [
       "Counter({1: 3, 2: 2, 0: 1})"
      ]
     },
     "execution_count": 51,
     "metadata": {},
     "output_type": "execute_result"
    }
   ],
   "source": [
    "c = Counter([0, 1, 1, 1, 2, 2])\n",
    "c"
   ]
  },
  {
   "cell_type": "markdown",
   "id": "1b55d8f5-5a08-4cfb-9ea1-049abb3b4479",
   "metadata": {},
   "source": [
    "## Sets:"
   ]
  },
  {
   "cell_type": "code",
   "execution_count": 52,
   "id": "ad5580a1-04f8-46fc-b432-4dd34b43f776",
   "metadata": {},
   "outputs": [],
   "source": [
    "primes_below_10 = {2,3,5,7}"
   ]
  },
  {
   "cell_type": "code",
   "execution_count": 53,
   "id": "2965e34b-2c3d-4f06-b23f-b32661d449bc",
   "metadata": {},
   "outputs": [
    {
     "data": {
      "text/plain": [
       "{1, 2}"
      ]
     },
     "execution_count": 53,
     "metadata": {},
     "output_type": "execute_result"
    }
   ],
   "source": [
    "s = set()\n",
    "s.add(1)\n",
    "s.add(2)\n",
    "s.add(2)\n",
    "s"
   ]
  },
  {
   "cell_type": "code",
   "execution_count": 54,
   "id": "b55485bc-bc16-4a37-a308-f8a83322e201",
   "metadata": {},
   "outputs": [
    {
     "data": {
      "text/plain": [
       "False"
      ]
     },
     "execution_count": 54,
     "metadata": {},
     "output_type": "execute_result"
    }
   ],
   "source": [
    "8 in s"
   ]
  },
  {
   "cell_type": "code",
   "execution_count": 55,
   "id": "e14a5ca2-c83a-460e-96b6-089eda2c3606",
   "metadata": {},
   "outputs": [
    {
     "data": {
      "text/plain": [
       "True"
      ]
     },
     "execution_count": 55,
     "metadata": {},
     "output_type": "execute_result"
    }
   ],
   "source": [
    "2 in s"
   ]
  },
  {
   "cell_type": "code",
   "execution_count": 57,
   "id": "483a2d69-1b3c-4d0f-b258-2ff31d94def4",
   "metadata": {},
   "outputs": [
    {
     "data": {
      "text/plain": [
       "11"
      ]
     },
     "execution_count": 57,
     "metadata": {},
     "output_type": "execute_result"
    }
   ],
   "source": [
    "item_list = [1, 2, 4, 4, 1, 1, 2, 3, 1, 3, 5]\n",
    "len(item_list)"
   ]
  },
  {
   "cell_type": "code",
   "execution_count": 59,
   "id": "0d40bc59-e10d-4f1a-883a-ab9ffac303f9",
   "metadata": {},
   "outputs": [
    {
     "data": {
      "text/plain": [
       "5"
      ]
     },
     "execution_count": 59,
     "metadata": {},
     "output_type": "execute_result"
    }
   ],
   "source": [
    "item_set = set(item_list)\n",
    "len(item_set)"
   ]
  },
  {
   "cell_type": "code",
   "execution_count": 60,
   "id": "a6ef6e4b-958c-4e6c-981f-58e8fa6cf52c",
   "metadata": {},
   "outputs": [
    {
     "data": {
      "text/plain": [
       "[1, 2, 3, 4, 5]"
      ]
     },
     "execution_count": 60,
     "metadata": {},
     "output_type": "execute_result"
    }
   ],
   "source": [
    "distinct_item_list = list(item_set)\n",
    "distinct_item_list"
   ]
  },
  {
   "cell_type": "markdown",
   "id": "9e6b1fab-204b-4429-bf4b-e31d14863487",
   "metadata": {},
   "source": [
    "## Control flow:"
   ]
  },
  {
   "cell_type": "code",
   "execution_count": 61,
   "id": "c87ad5db-6b79-49d1-8734-fbeaa9c12752",
   "metadata": {},
   "outputs": [
    {
     "name": "stdout",
     "output_type": "stream",
     "text": [
      "in case all previous if statements fail, use else (only if intended)\n"
     ]
    }
   ],
   "source": [
    "if 1 > 2:\n",
    "    print(\"only when cows start to fly\")\n",
    "elif 1 > 3:\n",
    "    print(\"else if (in case previous if satement is false\")\n",
    "else:\n",
    "    print(\"in case all previous if statements fail, use else (only if intended)\")"
   ]
  },
  {
   "cell_type": "code",
   "execution_count": 66,
   "id": "e1a4e68e-2cc2-4e4f-82b5-8ad2dcf38417",
   "metadata": {},
   "outputs": [],
   "source": [
    "x =3"
   ]
  },
  {
   "cell_type": "code",
   "execution_count": 67,
   "id": "d1f80f99-fe77-4e40-9c7a-f591218d2fe6",
   "metadata": {},
   "outputs": [
    {
     "data": {
      "text/plain": [
       "'odd'"
      ]
     },
     "execution_count": 67,
     "metadata": {},
     "output_type": "execute_result"
    }
   ],
   "source": [
    "parity = \"even\" if x % 2 == 0 else \"odd\"\n",
    "parity"
   ]
  },
  {
   "cell_type": "code",
   "execution_count": 69,
   "id": "4d97cd59-3db1-4d9e-b2ab-5fbda3b00782",
   "metadata": {},
   "outputs": [
    {
     "name": "stdout",
     "output_type": "stream",
     "text": [
      "0 is less than 10\n",
      "1 is less than 10\n",
      "2 is less than 10\n",
      "3 is less than 10\n",
      "4 is less than 10\n",
      "5 is less than 10\n",
      "6 is less than 10\n",
      "7 is less than 10\n",
      "8 is less than 10\n",
      "9 is less than 10\n"
     ]
    }
   ],
   "source": [
    "x = 0\n",
    "while x < 10:\n",
    "    print(f\"{x} is less than 10\")\n",
    "    x+=1"
   ]
  },
  {
   "cell_type": "code",
   "execution_count": 70,
   "id": "ca2114b0-2283-416f-b2f0-8f228d7b4ed7",
   "metadata": {},
   "outputs": [
    {
     "name": "stdout",
     "output_type": "stream",
     "text": [
      "0 is the current iteration\n",
      "1 is the current iteration\n",
      "2 is the current iteration\n",
      "3 is the current iteration\n",
      "4 is the current iteration\n",
      "5 is the current iteration\n",
      "6 is the current iteration\n",
      "7 is the current iteration\n",
      "8 is the current iteration\n",
      "9 is the current iteration\n"
     ]
    }
   ],
   "source": [
    "for x in range(10):\n",
    "    print(f\"{x} is the current iteration\")"
   ]
  },
  {
   "cell_type": "code",
   "execution_count": 71,
   "id": "0d734f21-9abd-401a-8b1c-18627081b5c1",
   "metadata": {},
   "outputs": [
    {
     "name": "stdout",
     "output_type": "stream",
     "text": [
      "0\n",
      "1\n",
      "2\n",
      "4\n"
     ]
    }
   ],
   "source": [
    "for x in range(10):\n",
    "    if x == 3:\n",
    "        continue\n",
    "    if x == 5:\n",
    "        break\n",
    "    print(x)"
   ]
  },
  {
   "cell_type": "markdown",
   "id": "4a11b60d-df74-4623-8a77-a47c1cbbbc4f",
   "metadata": {},
   "source": [
    "## Boolean values:"
   ]
  },
  {
   "cell_type": "code",
   "execution_count": 73,
   "id": "611ef534-4302-46d7-ada6-b5268750fd29",
   "metadata": {},
   "outputs": [
    {
     "data": {
      "text/plain": [
       "True"
      ]
     },
     "execution_count": 73,
     "metadata": {},
     "output_type": "execute_result"
    }
   ],
   "source": [
    "one_is_less_than_two = 1 < 2\n",
    "one_is_less_than_two"
   ]
  },
  {
   "cell_type": "code",
   "execution_count": 74,
   "id": "ea4dce22-0ef1-42a7-b7bb-63c7f2017810",
   "metadata": {},
   "outputs": [
    {
     "data": {
      "text/plain": [
       "False"
      ]
     },
     "execution_count": 74,
     "metadata": {},
     "output_type": "execute_result"
    }
   ],
   "source": [
    "true_equals_false = True == False\n",
    "true_equals_false"
   ]
  },
  {
   "cell_type": "code",
   "execution_count": 75,
   "id": "18dc80d6-c7cb-4d7c-8ccc-21d76e5afa8f",
   "metadata": {},
   "outputs": [],
   "source": [
    "x = None\n",
    "assert x is None"
   ]
  },
  {
   "cell_type": "code",
   "execution_count": 79,
   "id": "e690e6e8-f1b2-4ac7-99be-7bacf8765ee0",
   "metadata": {},
   "outputs": [
    {
     "data": {
      "text/plain": [
       "False"
      ]
     },
     "execution_count": 79,
     "metadata": {},
     "output_type": "execute_result"
    }
   ],
   "source": [
    "all([True, 0, 0])"
   ]
  },
  {
   "cell_type": "code",
   "execution_count": 80,
   "id": "5eb90e72-ff3f-401c-80b0-11386288d2e6",
   "metadata": {},
   "outputs": [
    {
     "data": {
      "text/plain": [
       "True"
      ]
     },
     "execution_count": 80,
     "metadata": {},
     "output_type": "execute_result"
    }
   ],
   "source": [
    "any([False, 12, 10])"
   ]
  },
  {
   "cell_type": "code",
   "execution_count": 81,
   "id": "7d58258b-5e1c-43bc-bbbb-8e0fc65f0fa8",
   "metadata": {},
   "outputs": [
    {
     "data": {
      "text/plain": [
       "True"
      ]
     },
     "execution_count": 81,
     "metadata": {},
     "output_type": "execute_result"
    }
   ],
   "source": [
    "all([])"
   ]
  },
  {
   "cell_type": "code",
   "execution_count": 82,
   "id": "d3c33067-6c25-4f7a-bf3b-987ffd373700",
   "metadata": {},
   "outputs": [
    {
     "data": {
      "text/plain": [
       "False"
      ]
     },
     "execution_count": 82,
     "metadata": {},
     "output_type": "execute_result"
    }
   ],
   "source": [
    "any([])"
   ]
  },
  {
   "cell_type": "markdown",
   "id": "0ce2a536-e17d-4574-abe0-a4f648b19a6d",
   "metadata": {},
   "source": [
    "## Classification:"
   ]
  },
  {
   "cell_type": "code",
   "execution_count": 83,
   "id": "0e679042-bf15-4896-b59b-588cdcdc08ec",
   "metadata": {},
   "outputs": [
    {
     "name": "stdout",
     "output_type": "stream",
     "text": [
      "values of x: [1, 4, 3, 5, 2]\n",
      "values of y: [1, 2, 3, 4, 5]\n",
      "values of x: [1, 2, 3, 4, 5]\n"
     ]
    }
   ],
   "source": [
    "x = [1, 4, 3, 5,2]\n",
    "print(\"values of x:\", x)\n",
    "y = sorted(x)\n",
    "print(\"values of y:\", y)\n",
    "x.sort()\n",
    "print(\"values of x:\", x)"
   ]
  },
  {
   "cell_type": "code",
   "execution_count": 85,
   "id": "444f36fc-f645-48ea-9210-34f6c188dd4f",
   "metadata": {},
   "outputs": [
    {
     "data": {
      "text/plain": [
       "[-5, 3, -2, -1, 0]"
      ]
     },
     "execution_count": 85,
     "metadata": {},
     "output_type": "execute_result"
    }
   ],
   "source": [
    "x = sorted([-5, -1, 3, -2,0], key=abs, reverse=True)\n",
    "x"
   ]
  },
  {
   "cell_type": "markdown",
   "id": "7e13a180-919e-43d5-a4ba-22800249eecf",
   "metadata": {},
   "source": [
    "## List Comprehension:"
   ]
  },
  {
   "cell_type": "code",
   "execution_count": 86,
   "id": "c952f912-ffdf-43cf-a49a-318eb8e9c372",
   "metadata": {},
   "outputs": [
    {
     "name": "stdout",
     "output_type": "stream",
     "text": [
      "[0, 2, 4]\n"
     ]
    }
   ],
   "source": [
    "even_numbers = [x for x in range(5) if x % 2 == 0]\n",
    "print(even_numbers)"
   ]
  },
  {
   "cell_type": "code",
   "execution_count": 87,
   "id": "5f44bad5-7dd7-41d2-b991-0a0bbc71a546",
   "metadata": {},
   "outputs": [
    {
     "name": "stdout",
     "output_type": "stream",
     "text": [
      "[0, 1, 4, 9, 16]\n"
     ]
    }
   ],
   "source": [
    "squares = [x * x for x in range(5)]\n",
    "print(squares)"
   ]
  },
  {
   "cell_type": "code",
   "execution_count": 88,
   "id": "f057763b-8790-46d2-9818-5da7f131c7aa",
   "metadata": {},
   "outputs": [
    {
     "name": "stdout",
     "output_type": "stream",
     "text": [
      "[0, 4, 16]\n"
     ]
    }
   ],
   "source": [
    "even_squares = [x * x for x in even_numbers]\n",
    "print(even_squares)"
   ]
  },
  {
   "cell_type": "code",
   "execution_count": 89,
   "id": "5722cd2e-7334-4797-ada9-ec3adcbe580b",
   "metadata": {},
   "outputs": [
    {
     "name": "stdout",
     "output_type": "stream",
     "text": [
      "{0: 0, 1: 1, 2: 4, 3: 9, 4: 16}\n"
     ]
    }
   ],
   "source": [
    "square_dict = {x: x*x for x in range(5)}\n",
    "print(square_dict)"
   ]
  },
  {
   "cell_type": "code",
   "execution_count": 90,
   "id": "b539307f-5f6c-4a9b-8b91-737658c4681c",
   "metadata": {},
   "outputs": [
    {
     "name": "stdout",
     "output_type": "stream",
     "text": [
      "{1, 4}\n"
     ]
    }
   ],
   "source": [
    "square_set = {x * x for x in [2,-2, 1, -1]}\n",
    "print(square_set)"
   ]
  },
  {
   "cell_type": "code",
   "execution_count": 91,
   "id": "0255a8dc-b4a9-46b1-9d9b-997767c26748",
   "metadata": {},
   "outputs": [
    {
     "name": "stdout",
     "output_type": "stream",
     "text": [
      "[0, 0, 0]\n"
     ]
    }
   ],
   "source": [
    "zeros = [0 for _ in even_numbers]\n",
    "print(zeros)"
   ]
  },
  {
   "cell_type": "code",
   "execution_count": 92,
   "id": "4900c3be-2839-487f-9b85-2c905f21c1ae",
   "metadata": {},
   "outputs": [
    {
     "name": "stdout",
     "output_type": "stream",
     "text": [
      "[(0, 0), (0, 1), (0, 2), (0, 3), (0, 4), (1, 0), (1, 1), (1, 2), (1, 3), (1, 4), (2, 0), (2, 1), (2, 2), (2, 3), (2, 4), (3, 0), (3, 1), (3, 2), (3, 3), (3, 4), (4, 0), (4, 1), (4, 2), (4, 3), (4, 4)]\n"
     ]
    }
   ],
   "source": [
    "pairs = [(x, y)\n",
    "         for x in range(5)\n",
    "         for y in range(5)]\n",
    "print(pairs)"
   ]
  },
  {
   "cell_type": "code",
   "execution_count": 93,
   "id": "1536bc19-ce3c-4de5-ac53-d1178f7496ac",
   "metadata": {},
   "outputs": [
    {
     "name": "stdout",
     "output_type": "stream",
     "text": [
      "[(0, 1), (0, 2), (0, 3), (0, 4), (1, 2), (1, 3), (1, 4), (2, 3), (2, 4), (3, 4)]\n"
     ]
    }
   ],
   "source": [
    "increasing_pairs = [(x, y)\n",
    "                    for x in range(5)\n",
    "                    for y in range(x+1, 5)]\n",
    "print(increasing_pairs)"
   ]
  },
  {
   "cell_type": "markdown",
   "id": "fb822914-8a23-4764-bf1d-55bc605e7863",
   "metadata": {},
   "source": [
    "## Automated tests and Assertions:"
   ]
  },
  {
   "cell_type": "code",
   "execution_count": 99,
   "id": "dc2aa207-4055-463d-a613-453b097cdbf7",
   "metadata": {},
   "outputs": [],
   "source": [
    "def smallest_item(xs):\n",
    "    return min(xs)\n",
    "assert smallest_item([10,20,5,32]) == 5"
   ]
  },
  {
   "cell_type": "code",
   "execution_count": 101,
   "id": "ec642652-1510-4fea-abd5-9850d08e5ed4",
   "metadata": {},
   "outputs": [
    {
     "data": {
      "text/plain": [
       "1"
      ]
     },
     "execution_count": 101,
     "metadata": {},
     "output_type": "execute_result"
    }
   ],
   "source": [
    "def smallest_item(xs):\n",
    "    assert xs, \"empty list has no smallest item\"\n",
    "    return min(xs)\n",
    "xs = [1]\n",
    "smallest_item(xs)"
   ]
  },
  {
   "cell_type": "markdown",
   "id": "d8089a78-be76-4388-b240-64e858e7bc02",
   "metadata": {},
   "source": [
    "## OOP:"
   ]
  },
  {
   "cell_type": "code",
   "execution_count": 114,
   "id": "34d526ae-4b74-4cfb-a57f-f8200a376e46",
   "metadata": {},
   "outputs": [],
   "source": [
    "class CountingClicker:\n",
    "    def __init__(self, count = 0):\n",
    "        self.count = count\n",
    "\n",
    "    def _repr_(self):\n",
    "        return f\"CountingClicker(count={self.count})\"\n",
    "\n",
    "    def click(self, num_times = 1):\n",
    "        self.count += num_times\n",
    "\n",
    "    def read(self):\n",
    "        return self.count\n",
    "\n",
    "    def reset(self):\n",
    "        self.count = 0"
   ]
  },
  {
   "cell_type": "code",
   "execution_count": 115,
   "id": "d65fb71a-01ee-4b63-8642-5227059b93ae",
   "metadata": {},
   "outputs": [],
   "source": [
    "count1 = CountingClicker()\n",
    "count2 = CountingClicker(100)\n",
    "count3 = CountingClicker(count=120)"
   ]
  },
  {
   "cell_type": "code",
   "execution_count": 116,
   "id": "1b6eafbd-421d-4d70-ae03-c4c80b9e8129",
   "metadata": {},
   "outputs": [],
   "source": [
    "clicker = CountingClicker()"
   ]
  },
  {
   "cell_type": "code",
   "execution_count": 117,
   "id": "acfc07cf-032b-4a82-bffb-33440d077e19",
   "metadata": {},
   "outputs": [],
   "source": [
    "assert clicker.read() == 0, \"clicker should start with count 0\""
   ]
  },
  {
   "cell_type": "code",
   "execution_count": 118,
   "id": "e574850a-730b-4e5f-9090-0d56075d3f52",
   "metadata": {},
   "outputs": [],
   "source": [
    "clicker.click()\n",
    "clicker.click()\n",
    "assert clicker.read()==2, \"after two clicks, clicker should have count = 2\""
   ]
  },
  {
   "cell_type": "code",
   "execution_count": 120,
   "id": "b28bc677-2012-4f91-b020-2b5047dc9f32",
   "metadata": {},
   "outputs": [],
   "source": [
    "clicker.reset()\n",
    "assert clicker.read()==0, \"After reset clicker should have count = 0\""
   ]
  },
  {
   "cell_type": "code",
   "execution_count": 122,
   "id": "556513ba-0216-4e7e-8fa3-6b3e44c425e0",
   "metadata": {},
   "outputs": [],
   "source": [
    "class NoResetClicker(CountingClicker):\n",
    "    def reset(self):\n",
    "        pass\n",
    "    "
   ]
  },
  {
   "cell_type": "code",
   "execution_count": 123,
   "id": "959ded00-7786-4fe5-b87b-2d1548dfb21a",
   "metadata": {},
   "outputs": [],
   "source": [
    "no_reset_clicker = NoResetClicker()\n",
    "assert no_reset_clicker.read() == 0\n",
    "no_reset_clicker.click()\n",
    "assert no_reset_clicker.read() == 1\n",
    "no_reset_clicker.reset()\n",
    "assert no_reset_clicker.read() == 1, \"Reset on no reset clicker should not perform any operation\""
   ]
  },
  {
   "cell_type": "markdown",
   "id": "09ee5fba-33dd-4359-9c89-9aadde7f6589",
   "metadata": {},
   "source": [
    "## Iterables and Generators"
   ]
  },
  {
   "cell_type": "code",
   "execution_count": 124,
   "id": "20095a54-b75c-4c4e-8f61-d29bbbfe9fc0",
   "metadata": {},
   "outputs": [
    {
     "name": "stdout",
     "output_type": "stream",
     "text": [
      "i: 0\n",
      "i: 1\n",
      "i: 2\n",
      "i: 3\n",
      "i: 4\n",
      "i: 5\n",
      "i: 6\n",
      "i: 7\n",
      "i: 8\n",
      "i: 9\n"
     ]
    }
   ],
   "source": [
    "def generate_range(n):\n",
    "    i = 0\n",
    "    while i < n:\n",
    "        yield i \n",
    "        i += 1\n",
    "\n",
    "for i in generate_range(10):\n",
    "    print(f\"i: {i}\")"
   ]
  },
  {
   "cell_type": "code",
   "execution_count": 125,
   "id": "35f3464c-2548-4863-9e4a-c66fd7e0bc4d",
   "metadata": {},
   "outputs": [
    {
     "data": {
      "text/plain": [
       "<generator object <genexpr> at 0x0000021C39631080>"
      ]
     },
     "execution_count": 125,
     "metadata": {},
     "output_type": "execute_result"
    }
   ],
   "source": [
    "# compreensão\n",
    "evens_below_20 = (i for i in generate_range(20) if i%2 == 0)\n",
    "evens_below_20"
   ]
  },
  {
   "cell_type": "code",
   "execution_count": 126,
   "id": "42243bac-b497-4135-95e7-2d780f31f4bf",
   "metadata": {},
   "outputs": [
    {
     "name": "stdout",
     "output_type": "stream",
     "text": [
      "name 0 is gil\n",
      "name 1 is kobe\n",
      "name 2 is clarkson\n",
      "name 3 is mia\n"
     ]
    }
   ],
   "source": [
    "names = [\"gil\", \"kobe\", \"clarkson\", \"mia\"]\n",
    "\n",
    "for i, name in enumerate(names):\n",
    "    print(f\"name {i} is {name}\")"
   ]
  },
  {
   "cell_type": "markdown",
   "id": "32f663f3-1512-4a00-b194-0e9bc0424954",
   "metadata": {},
   "source": [
    "## Randomness:"
   ]
  },
  {
   "cell_type": "code",
   "execution_count": 127,
   "id": "07923d4d-a130-4e53-a134-60655b42cf57",
   "metadata": {},
   "outputs": [],
   "source": [
    "import random"
   ]
  },
  {
   "cell_type": "code",
   "execution_count": 128,
   "id": "28f1ba22-5fef-4b06-aa64-1c297ef27192",
   "metadata": {},
   "outputs": [
    {
     "data": {
      "text/plain": [
       "[0.5714025946899135,\n",
       " 0.4288890546751146,\n",
       " 0.5780913011344704,\n",
       " 0.20609823213950174]"
      ]
     },
     "execution_count": 128,
     "metadata": {},
     "output_type": "execute_result"
    }
   ],
   "source": [
    "random.seed(10)\n",
    "\n",
    "four_uniform_randoms = [random.random() for _ in range(4)]\n",
    "four_uniform_randoms"
   ]
  },
  {
   "cell_type": "code",
   "execution_count": 129,
   "id": "b01f6e86-1772-4f66-9703-8eba6ca5e649",
   "metadata": {},
   "outputs": [
    {
     "name": "stdout",
     "output_type": "stream",
     "text": [
      "0.5714025946899135\n",
      "0.5714025946899135\n"
     ]
    }
   ],
   "source": [
    "random.seed(10)\n",
    "print(random.random())\n",
    "random.seed(10)\n",
    "print(random.random())"
   ]
  },
  {
   "cell_type": "code",
   "execution_count": 135,
   "id": "b8bd6cd7-0b4f-481e-a681-e3fd0fd5831c",
   "metadata": {},
   "outputs": [
    {
     "name": "stdout",
     "output_type": "stream",
     "text": [
      "8\n",
      "18\n"
     ]
    }
   ],
   "source": [
    "print(random.randrange(10))\n",
    "print(random.randrange(15,20))"
   ]
  },
  {
   "cell_type": "code",
   "execution_count": 137,
   "id": "1f07258d-3cda-453c-9e93-dc6c88e47d33",
   "metadata": {},
   "outputs": [
    {
     "name": "stdout",
     "output_type": "stream",
     "text": [
      "[6, 7, 4, 2, 9, 8, 0, 10, 3, 1, 5]\n"
     ]
    }
   ],
   "source": [
    "up_to_ten = [i for i in range(11)]\n",
    "random.shuffle(up_to_ten)\n",
    "print(up_to_ten)"
   ]
  },
  {
   "cell_type": "code",
   "execution_count": 138,
   "id": "5125402a-9956-4501-a69e-613b906fc10a",
   "metadata": {},
   "outputs": [
    {
     "name": "stdout",
     "output_type": "stream",
     "text": [
      "Russo\n"
     ]
    }
   ],
   "source": [
    "my_best_friend = random.choice([\"Lincoln\", \"Arquimedes\", \"Russo\", \"Rafa\"])\n",
    "print(my_best_friend)"
   ]
  },
  {
   "cell_type": "code",
   "execution_count": 139,
   "id": "f4824119-60ff-40ab-b2f4-94e65abfbb0c",
   "metadata": {},
   "outputs": [
    {
     "name": "stdout",
     "output_type": "stream",
     "text": [
      "[26, 21, 8, 14, 5, 28, 9, 24, 11, 4, 29, 7]\n"
     ]
    }
   ],
   "source": [
    "lottery_numbers = range(30)\n",
    "winning_numbers = random.sample(lottery_numbers, 12)\n",
    "print(winning_numbers)"
   ]
  },
  {
   "cell_type": "code",
   "execution_count": 149,
   "id": "c3aa420a-fed3-4b42-86dd-ef3fc01c8944",
   "metadata": {},
   "outputs": [
    {
     "name": "stdout",
     "output_type": "stream",
     "text": [
      "[5, 9, 2, 1, 1]\n"
     ]
    }
   ],
   "source": [
    "five_with_replacement = [random.choice(range(12)) for _ in range(5)]\n",
    "print(five_with_replacement)"
   ]
  },
  {
   "cell_type": "markdown",
   "id": "5cdade78-35d4-4b89-b9c9-bf80c14a87f0",
   "metadata": {},
   "source": [
    "## Regular Expressions:"
   ]
  },
  {
   "cell_type": "code",
   "execution_count": 150,
   "id": "eca54976-c673-4be8-a59a-07d694e5f0cd",
   "metadata": {},
   "outputs": [],
   "source": [
    "import re"
   ]
  },
  {
   "cell_type": "code",
   "execution_count": 151,
   "id": "697b6d76-c56b-4c9d-8faf-f51058938911",
   "metadata": {},
   "outputs": [],
   "source": [
    "re_examples = [\n",
    "    not re.match(\"a\", \"cat\"),\n",
    "    re.search(\"a\", \"cat\"),\n",
    "    not re.search(\"c\", \"dog\"),\n",
    "    3 == len(re.split(\"[ab]\", \"carbs\")),\n",
    "    \"R-D-\" == re.sub(\"[0-9]\", \"-\", \"R2D2\")\n",
    "]\n",
    "\n",
    "assert all(five_with_replacement), \"all the regex examples should be True\""
   ]
  },
  {
   "cell_type": "markdown",
   "id": "ce614afc-ce66-47d4-af85-48f69116c598",
   "metadata": {},
   "source": [
    "## Zipping and Unpacking:"
   ]
  },
  {
   "cell_type": "code",
   "execution_count": 152,
   "id": "966807bd-48ae-4eab-a023-eb2f84aa6a3d",
   "metadata": {},
   "outputs": [
    {
     "name": "stdout",
     "output_type": "stream",
     "text": [
      "[('a', 1), ('b', 2), ('c', 3)]\n"
     ]
    }
   ],
   "source": [
    "list1 = [\"a\", \"b\", \"c\"]\n",
    "list2 = [1, 2, 3]\n",
    "pairs = [pair for pair in zip(list1, list2)]\n",
    "print(pairs)"
   ]
  },
  {
   "cell_type": "code",
   "execution_count": 153,
   "id": "cd3c1624-ba3d-410e-8b34-70bd04e33cab",
   "metadata": {},
   "outputs": [
    {
     "name": "stdout",
     "output_type": "stream",
     "text": [
      "letters: ('a', 'b', 'c') numbers: (1, 2, 3)\n"
     ]
    }
   ],
   "source": [
    "letters, numbers = zip(*pairs)\n",
    "print(\"letters:\", letters, \"numbers:\", numbers) "
   ]
  },
  {
   "cell_type": "code",
   "execution_count": 155,
   "id": "8cab0b07-0f60-4642-a170-a7783d004438",
   "metadata": {},
   "outputs": [
    {
     "name": "stdout",
     "output_type": "stream",
     "text": [
      "add expects two inputs\n",
      "3\n"
     ]
    }
   ],
   "source": [
    "def add(a, b): return a + b\n",
    "\n",
    "add(1,2)\n",
    "try:\n",
    "    add([1, 2])\n",
    "except TypeError:\n",
    "    print(\"add expects two inputs\")\n",
    "print(add(*[1, 2]))"
   ]
  },
  {
   "cell_type": "markdown",
   "id": "1a5db216-e394-4a7e-bda2-8dd89827d829",
   "metadata": {},
   "source": [
    "## args and kwargs:"
   ]
  },
  {
   "cell_type": "code",
   "execution_count": 156,
   "id": "e2da2861-130a-46ec-9904-3e4aea3ae64c",
   "metadata": {},
   "outputs": [],
   "source": [
    "def doubler(f):\n",
    "    def g(x):\n",
    "        return 2 * f(x)\n",
    "    return g"
   ]
  },
  {
   "cell_type": "code",
   "execution_count": 157,
   "id": "a8697451-40ed-4d70-a7c0-e32c454c06a0",
   "metadata": {},
   "outputs": [],
   "source": [
    "def f1(x):\n",
    "    return x+1\n",
    "g = doubler(f1)\n",
    "assert g(2) == 6, \"(2 + 1) * 2 = 6\"\n",
    "assert g(5) == 12, \"(5 + 1) * 2 = 12\"\n"
   ]
  },
  {
   "cell_type": "code",
   "execution_count": 158,
   "id": "8d7fc05b-3019-4354-8aaf-b0e8084213f2",
   "metadata": {},
   "outputs": [
    {
     "name": "stdout",
     "output_type": "stream",
     "text": [
      "as defined, g only takes one parameter\n"
     ]
    }
   ],
   "source": [
    "def f2(x, y):\n",
    "    return x + y\n",
    "\n",
    "g = doubler(f2)\n",
    "try:\n",
    "    g(1,2)\n",
    "\n",
    "except TypeError:\n",
    "    print(\"as defined, g only takes one parameter\")"
   ]
  },
  {
   "cell_type": "code",
   "execution_count": 159,
   "id": "7f641325-3645-4c58-84aa-f37e1ad6d7dc",
   "metadata": {},
   "outputs": [],
   "source": [
    "def magic(*args, **kwargs):\n",
    "    print(\"unnamed args:\", args)\n",
    "    print(\"keywords arguments:\", kwargs)"
   ]
  },
  {
   "cell_type": "code",
   "execution_count": 160,
   "id": "4fa0d6f7-2006-47a3-a8ba-424cff50ddc6",
   "metadata": {},
   "outputs": [
    {
     "name": "stdout",
     "output_type": "stream",
     "text": [
      "unnamed args: (4, 1, 7)\n",
      "keywords arguments: {'key': 'word', 'key2': 'another word'}\n"
     ]
    }
   ],
   "source": [
    "magic(4, 1, 7, key=\"word\", key2=\"another word\")"
   ]
  },
  {
   "cell_type": "code",
   "execution_count": 161,
   "id": "c019bbdf-b01e-4d1c-b9c7-44e06a0d4011",
   "metadata": {},
   "outputs": [],
   "source": [
    "def other_way_magic(x, y, z):\n",
    "    return x + y + z\n",
    "\n",
    "x_y_list = [1,2]\n",
    "z_dict = {\"z\": 3}\n",
    "assert other_way_magic(*x_y_list, **z_dict) == 6, \"1 + 2 + 3 should be equal to 6\""
   ]
  },
  {
   "cell_type": "code",
   "execution_count": null,
   "id": "abd5656e-cd79-4ff8-b29d-fdfc3df363d3",
   "metadata": {},
   "outputs": [],
   "source": []
  }
 ],
 "metadata": {
  "kernelspec": {
   "display_name": "Python 3 (ipykernel)",
   "language": "python",
   "name": "python3"
  },
  "language_info": {
   "codemirror_mode": {
    "name": "ipython",
    "version": 3
   },
   "file_extension": ".py",
   "mimetype": "text/x-python",
   "name": "python",
   "nbconvert_exporter": "python",
   "pygments_lexer": "ipython3",
   "version": "3.11.7"
  }
 },
 "nbformat": 4,
 "nbformat_minor": 5
}
